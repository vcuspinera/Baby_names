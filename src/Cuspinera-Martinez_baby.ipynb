{
 "cells": [
  {
   "cell_type": "markdown",
   "metadata": {},
   "source": [
    "### _Possible name of Vic and Pam's baby girl:_\n",
    "# Elisa Maracena Cuspinera Martinez"
   ]
  },
  {
   "cell_type": "code",
   "execution_count": 2,
   "metadata": {},
   "outputs": [],
   "source": [
    "# General libraries\n",
    "import pandas as pd\n",
    "import numpy as np\n",
    "from Names_rhyme import Names_rhyme"
   ]
  },
  {
   "cell_type": "code",
   "execution_count": 3,
   "metadata": {},
   "outputs": [
    {
     "data": {
      "text/plain": [
       "(0.1667, 0.6667, 0.4167)"
      ]
     },
     "execution_count": 3,
     "metadata": {},
     "output_type": "execute_result"
    }
   ],
   "source": [
    "# testing 'Names_rhyme' class with 'check_two_names' function\n",
    "v = Names_rhyme()\n",
    "v.check_two_names(\"elisa\", \"cuspinera\")"
   ]
  },
  {
   "cell_type": "code",
   "execution_count": 6,
   "metadata": {},
   "outputs": [
    {
     "data": {
      "text/plain": [
       "(0.0556, 0.3334, 0.1944)"
      ]
     },
     "execution_count": 6,
     "metadata": {},
     "output_type": "execute_result"
    }
   ],
   "source": [
    "# testing 'Names_rhyme' class with 'check_complete_name' function\n",
    "v = Names_rhyme()\n",
    "score = v.check_complete_name(\"elisa cuspinera martinez\")\n",
    "score"
   ]
  },
  {
   "cell_type": "code",
   "execution_count": 4,
   "metadata": {},
   "outputs": [
    {
     "data": {
      "text/plain": [
       "(0.1667, 0.4167, 0.2917)"
      ]
     },
     "execution_count": 4,
     "metadata": {},
     "output_type": "execute_result"
    }
   ],
   "source": [
    "# testing 'Names_rhyme' class with 'check_complete_name' function\n",
    "v = Names_rhyme()\n",
    "score = v.check_complete_name(\"elisa macarena cuspinera martinez\")\n",
    "score"
   ]
  },
  {
   "cell_type": "code",
   "execution_count": 7,
   "metadata": {},
   "outputs": [
    {
     "data": {
      "text/html": [
       "<div>\n",
       "<style scoped>\n",
       "    .dataframe tbody tr th:only-of-type {\n",
       "        vertical-align: middle;\n",
       "    }\n",
       "\n",
       "    .dataframe tbody tr th {\n",
       "        vertical-align: top;\n",
       "    }\n",
       "\n",
       "    .dataframe thead th {\n",
       "        text-align: right;\n",
       "    }\n",
       "</style>\n",
       "<table border=\"1\" class=\"dataframe\">\n",
       "  <thead>\n",
       "    <tr style=\"text-align: right;\">\n",
       "      <th></th>\n",
       "      <th>Name</th>\n",
       "      <th>IPA Spanish</th>\n",
       "      <th>IPA English</th>\n",
       "      <th>Score Spanish</th>\n",
       "      <th>Score English</th>\n",
       "      <th>Score Total</th>\n",
       "    </tr>\n",
       "  </thead>\n",
       "  <tbody>\n",
       "    <tr>\n",
       "      <th>0</th>\n",
       "      <td>macarena cuspinera</td>\n",
       "      <td>makaɾena kuspineɾa</td>\n",
       "      <td>mækəˈrinə kʊzpɪˈnirə</td>\n",
       "      <td>0.5</td>\n",
       "      <td>0.6667</td>\n",
       "      <td>0.5833</td>\n",
       "    </tr>\n",
       "  </tbody>\n",
       "</table>\n",
       "</div>"
      ],
      "text/plain": [
       "                 Name         IPA Spanish           IPA English  \\\n",
       "0  macarena cuspinera  makaɾena kuspineɾa  mækəˈrinə kʊzpɪˈnirə   \n",
       "\n",
       "   Score Spanish  Score English  Score Total  \n",
       "0            0.5         0.6667       0.5833  "
      ]
     },
     "execution_count": 7,
     "metadata": {},
     "output_type": "execute_result"
    }
   ],
   "source": [
    "# writing down the complete name in a data frame\n",
    "v = Names_rhyme()\n",
    "score = v.check_complete_name(\"macarena cuspinera\")\n",
    "my_col = ('Name', 'IPA Spanish', 'IPA English', 'Score Spanish', 'Score English', 'Score Total')\n",
    "pd.DataFrame([[v.complete_name, v.ipa_spanish, v.ipa_english,\n",
    "                       score[0], score[1], score[2]]], columns=my_col)"
   ]
  },
  {
   "cell_type": "code",
   "execution_count": 5,
   "metadata": {},
   "outputs": [
    {
     "data": {
      "text/html": [
       "<div>\n",
       "<style scoped>\n",
       "    .dataframe tbody tr th:only-of-type {\n",
       "        vertical-align: middle;\n",
       "    }\n",
       "\n",
       "    .dataframe tbody tr th {\n",
       "        vertical-align: top;\n",
       "    }\n",
       "\n",
       "    .dataframe thead th {\n",
       "        text-align: right;\n",
       "    }\n",
       "</style>\n",
       "<table border=\"1\" class=\"dataframe\">\n",
       "  <thead>\n",
       "    <tr style=\"text-align: right;\">\n",
       "      <th></th>\n",
       "      <th>Name</th>\n",
       "      <th>IPA Spanish</th>\n",
       "      <th>IPA English</th>\n",
       "      <th>Score Spanish</th>\n",
       "      <th>Score English</th>\n",
       "      <th>Score Total</th>\n",
       "    </tr>\n",
       "  </thead>\n",
       "  <tbody>\n",
       "    <tr>\n",
       "      <th>0</th>\n",
       "      <td>elisa macarena cuspinera martinez</td>\n",
       "      <td>elisa makaɾena kuspineɾa maɾtines</td>\n",
       "      <td>əˈlizə mækəˈrinə kʊzpɪˈnirə mɑrˈtinɛz</td>\n",
       "      <td>0.1667</td>\n",
       "      <td>0.4167</td>\n",
       "      <td>0.2917</td>\n",
       "    </tr>\n",
       "  </tbody>\n",
       "</table>\n",
       "</div>"
      ],
      "text/plain": [
       "                                Name                        IPA Spanish  \\\n",
       "0  elisa macarena cuspinera martinez  elisa makaɾena kuspineɾa maɾtines   \n",
       "\n",
       "                             IPA English  Score Spanish  Score English  \\\n",
       "0  əˈlizə mækəˈrinə kʊzpɪˈnirə mɑrˈtinɛz         0.1667         0.4167   \n",
       "\n",
       "   Score Total  \n",
       "0       0.2917  "
      ]
     },
     "execution_count": 5,
     "metadata": {},
     "output_type": "execute_result"
    }
   ],
   "source": [
    "# writing down the complete name in a data frame\n",
    "v = Names_rhyme()\n",
    "score = v.check_complete_name(\"elisa macarena cuspinera martinez\")\n",
    "my_col = ('Name', 'IPA Spanish', 'IPA English', 'Score Spanish', 'Score English', 'Score Total')\n",
    "pd.DataFrame([[v.complete_name, v.ipa_spanish, v.ipa_english,\n",
    "                       score[0], score[1], score[2]]], columns=my_col)"
   ]
  },
  {
   "cell_type": "code",
   "execution_count": null,
   "metadata": {},
   "outputs": [],
   "source": []
  }
 ],
 "metadata": {
  "kernelspec": {
   "display_name": "Python 3",
   "language": "python",
   "name": "python3"
  },
  "language_info": {
   "codemirror_mode": {
    "name": "ipython",
    "version": 3
   },
   "file_extension": ".py",
   "mimetype": "text/x-python",
   "name": "python",
   "nbconvert_exporter": "python",
   "pygments_lexer": "ipython3",
   "version": "3.7.7"
  }
 },
 "nbformat": 4,
 "nbformat_minor": 4
}
