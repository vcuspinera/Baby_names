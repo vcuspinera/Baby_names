{
 "cells": [
  {
   "cell_type": "markdown",
   "metadata": {},
   "source": [
    "# Merging databases\n",
    "## Libraries"
   ]
  },
  {
   "cell_type": "code",
   "execution_count": 1,
   "metadata": {},
   "outputs": [],
   "source": [
    "# General libraries\n",
    "import pandas as pd\n",
    "import numpy as np\n",
    "import re\n",
    "from nltk.tokenize import word_tokenize"
   ]
  },
  {
   "cell_type": "markdown",
   "metadata": {},
   "source": [
    "## Spain data\n",
    "### Most frequent names by year\n",
    "I download the data of the [100 most frequent names from 2002 to 2019 in Spain](https://www.ine.es/dyngs/INEbase/es/operacion.htm?c=Estadistica_C&cid=1254736177009&menu=resultados&idp=1254734710990#!tabs-1254736195454), shared by the Instituto Nacional de Estadistica."
   ]
  },
  {
   "cell_type": "code",
   "execution_count": 2,
   "metadata": {},
   "outputs": [],
   "source": [
    "# Parameters\n",
    "my_folder = \"../data/raw/Spain/\"\n",
    "years = np.arange(2002, 2020)\n",
    "\n",
    "# Open the files\n",
    "df_sp = pd.DataFrame()\n",
    "aux = pd.DataFrame()\n",
    "for y in years:\n",
    "    for i in ['nacional', 'Nacional', 'NACIONAL', 'TOTAL']:\n",
    "        for j in ['.xls', '.xlsx']:\n",
    "            try:\n",
    "                aux = pd.read_excel(my_folder+'nomnac'+str(y)[-2:]+j, \n",
    "                                    sheet_name=i,\n",
    "                                    skiprows=3, \n",
    "                                    names=['name_m', 'number_m', 'erase', 'name_f', 'number_f']\n",
    "                                   )\n",
    "            except:\n",
    "                next\n",
    "    aux['year'] = y\n",
    "    df_sp = pd.concat([df_sp, aux])"
   ]
  },
  {
   "cell_type": "code",
   "execution_count": 3,
   "metadata": {},
   "outputs": [],
   "source": [
    "# Wrangling data\n",
    "df_sp.drop(columns=[\"erase\"])\n",
    "males = df_sp[['name_m', 'number_m', 'year']]\\\n",
    "    .rename(columns={'name_m':'name', 'number_m': 'number'})\n",
    "males['sex'] = \"M\"\n",
    "females = df_sp[['name_f', 'number_f', 'year']]\\\n",
    "    .rename(columns={'name_f':'name', 'number_f': 'number'})\n",
    "females['sex'] = \"F\"\n",
    "df = pd.concat([males, females]).reset_index(drop=True)\n",
    "\n",
    "# Names in lowercase\n",
    "df.name = [str(n).lower() for n in df.name]\n",
    "\n",
    "# Clean names\n",
    "df.name = [re.sub(r'^\\s+([A-Za-z])', r'\\1', name) for name in df.name]\n",
    "df.name = [re.sub(r'([A-Za-z0-9]+\\s?[A-Za-z0-9]+)\\s{2,100}', r'\\1', name) for name in df.name]\n",
    "df = df[~(df.name=='total')]\n",
    "\n",
    "# # Names in tokens\n",
    "# df['tokens'] = [word_tokenize(n) for n in df.name]"
   ]
  },
  {
   "cell_type": "code",
   "execution_count": 4,
   "metadata": {},
   "outputs": [],
   "source": [
    "# Save the data to CSV file\n",
    "df.to_csv('../data/names/names_spain.csv')"
   ]
  },
  {
   "cell_type": "markdown",
   "metadata": {},
   "source": [
    "### Average age by name\n",
    "I download the data with [all names with frequency equal or higher to 20 people](https://www.ine.es/dyngs/INEbase/es/operacion.htm?c=Estadistica_C&cid=1254736177009&menu=resultados&idp=1254734710990#!tabs-1254736195454), shared by the Instituto Nacional de Estadistica."
   ]
  },
  {
   "cell_type": "code",
   "execution_count": 85,
   "metadata": {},
   "outputs": [],
   "source": [
    "# Open the file\n",
    "my_dic = {'Hombres':\"M\",\n",
    "          \"Mujeres\":\"F\"}\n",
    "\n",
    "aux = dict()\n",
    "for i, j in my_dic.items():\n",
    "    aux[i] = pd.read_excel(my_folder+'nombres_por_edad_media.xls', \n",
    "                  sheet_name=i,\n",
    "                  skiprows=6 ,\n",
    "                  names=['orden', 'name', 'number', 'average_age']\n",
    "                 )#.drop(columns=['orden'])\n",
    "    aux[i]['sex'] = j"
   ]
  },
  {
   "cell_type": "code",
   "execution_count": 86,
   "metadata": {},
   "outputs": [],
   "source": [
    "# Concatenate male and female databases\n",
    "df = pd.concat([aux['Hombres'], aux['Mujeres']]).reset_index(drop=True)\n",
    "\n",
    "# Names in lowercase\n",
    "df.name = [str(n).lower() for n in df.name]\n",
    "\n",
    "# Wrangling data\n",
    "df.loc[30398 , 'name'] = 'na'"
   ]
  },
  {
   "cell_type": "code",
   "execution_count": 88,
   "metadata": {},
   "outputs": [],
   "source": [
    "# Save the data to CSV file\n",
    "df.to_csv('../data/names/names_spain_average_age.csv')"
   ]
  },
  {
   "cell_type": "markdown",
   "metadata": {},
   "source": [
    "## USA data\n",
    "### Most frequent names by year\n",
    "Names in [the US with frequency equal or higher to 5 observations per year](https://www.ssa.gov/oact/babynames/limits.html), by Social Security Administration."
   ]
  },
  {
   "cell_type": "code",
   "execution_count": 98,
   "metadata": {},
   "outputs": [],
   "source": [
    "# Parameters\n",
    "my_folder = \"../data/raw/USA/\"\n",
    "# years = np.arange(2000, 2020)\n",
    "years = np.arange(1880, 2020)\n",
    "\n",
    "# Open the file\n",
    "df = pd.DataFrame()\n",
    "for y in years:\n",
    "    aux = pd.read_csv(my_folder + 'yob' + str(y) + '.txt', \n",
    "                     header=None).rename(columns={0:'name', 1:'sex', 2:\"number\"})\n",
    "    aux['year'] = y\n",
    "    df = pd.concat([df, aux]).reset_index(drop=True)\n",
    "df.name = [i.lower() for i in df.name]"
   ]
  },
  {
   "cell_type": "code",
   "execution_count": 100,
   "metadata": {},
   "outputs": [
    {
     "data": {
      "text/html": [
       "<div>\n",
       "<style scoped>\n",
       "    .dataframe tbody tr th:only-of-type {\n",
       "        vertical-align: middle;\n",
       "    }\n",
       "\n",
       "    .dataframe tbody tr th {\n",
       "        vertical-align: top;\n",
       "    }\n",
       "\n",
       "    .dataframe thead th {\n",
       "        text-align: right;\n",
       "    }\n",
       "</style>\n",
       "<table border=\"1\" class=\"dataframe\">\n",
       "  <thead>\n",
       "    <tr style=\"text-align: right;\">\n",
       "      <th></th>\n",
       "      <th>name</th>\n",
       "      <th>sex</th>\n",
       "      <th>number</th>\n",
       "      <th>year</th>\n",
       "    </tr>\n",
       "  </thead>\n",
       "  <tbody>\n",
       "    <tr>\n",
       "      <th>0</th>\n",
       "      <td>mary</td>\n",
       "      <td>F</td>\n",
       "      <td>7065</td>\n",
       "      <td>1880</td>\n",
       "    </tr>\n",
       "    <tr>\n",
       "      <th>1</th>\n",
       "      <td>anna</td>\n",
       "      <td>F</td>\n",
       "      <td>2604</td>\n",
       "      <td>1880</td>\n",
       "    </tr>\n",
       "    <tr>\n",
       "      <th>2</th>\n",
       "      <td>emma</td>\n",
       "      <td>F</td>\n",
       "      <td>2003</td>\n",
       "      <td>1880</td>\n",
       "    </tr>\n",
       "    <tr>\n",
       "      <th>3</th>\n",
       "      <td>elizabeth</td>\n",
       "      <td>F</td>\n",
       "      <td>1939</td>\n",
       "      <td>1880</td>\n",
       "    </tr>\n",
       "    <tr>\n",
       "      <th>4</th>\n",
       "      <td>minnie</td>\n",
       "      <td>F</td>\n",
       "      <td>1746</td>\n",
       "      <td>1880</td>\n",
       "    </tr>\n",
       "    <tr>\n",
       "      <th>...</th>\n",
       "      <td>...</td>\n",
       "      <td>...</td>\n",
       "      <td>...</td>\n",
       "      <td>...</td>\n",
       "    </tr>\n",
       "    <tr>\n",
       "      <th>1989396</th>\n",
       "      <td>zyheem</td>\n",
       "      <td>M</td>\n",
       "      <td>5</td>\n",
       "      <td>2019</td>\n",
       "    </tr>\n",
       "    <tr>\n",
       "      <th>1989397</th>\n",
       "      <td>zykel</td>\n",
       "      <td>M</td>\n",
       "      <td>5</td>\n",
       "      <td>2019</td>\n",
       "    </tr>\n",
       "    <tr>\n",
       "      <th>1989398</th>\n",
       "      <td>zyking</td>\n",
       "      <td>M</td>\n",
       "      <td>5</td>\n",
       "      <td>2019</td>\n",
       "    </tr>\n",
       "    <tr>\n",
       "      <th>1989399</th>\n",
       "      <td>zyn</td>\n",
       "      <td>M</td>\n",
       "      <td>5</td>\n",
       "      <td>2019</td>\n",
       "    </tr>\n",
       "    <tr>\n",
       "      <th>1989400</th>\n",
       "      <td>zyran</td>\n",
       "      <td>M</td>\n",
       "      <td>5</td>\n",
       "      <td>2019</td>\n",
       "    </tr>\n",
       "  </tbody>\n",
       "</table>\n",
       "<p>1989401 rows × 4 columns</p>\n",
       "</div>"
      ],
      "text/plain": [
       "              name sex  number  year\n",
       "0             mary   F    7065  1880\n",
       "1             anna   F    2604  1880\n",
       "2             emma   F    2003  1880\n",
       "3        elizabeth   F    1939  1880\n",
       "4           minnie   F    1746  1880\n",
       "...            ...  ..     ...   ...\n",
       "1989396     zyheem   M       5  2019\n",
       "1989397      zykel   M       5  2019\n",
       "1989398     zyking   M       5  2019\n",
       "1989399        zyn   M       5  2019\n",
       "1989400      zyran   M       5  2019\n",
       "\n",
       "[1989401 rows x 4 columns]"
      ]
     },
     "execution_count": 100,
     "metadata": {},
     "output_type": "execute_result"
    }
   ],
   "source": [
    "# Save the data to CSV file\n",
    "df.to_csv('../data/names/names_usa.csv')"
   ]
  },
  {
   "cell_type": "markdown",
   "metadata": {},
   "source": [
    "## Canada data"
   ]
  },
  {
   "cell_type": "code",
   "execution_count": null,
   "metadata": {},
   "outputs": [],
   "source": []
  }
 ],
 "metadata": {
  "kernelspec": {
   "display_name": "Python 3",
   "language": "python",
   "name": "python3"
  },
  "language_info": {
   "codemirror_mode": {
    "name": "ipython",
    "version": 3
   },
   "file_extension": ".py",
   "mimetype": "text/x-python",
   "name": "python",
   "nbconvert_exporter": "python",
   "pygments_lexer": "ipython3",
   "version": "3.7.7"
  }
 },
 "nbformat": 4,
 "nbformat_minor": 4
}
