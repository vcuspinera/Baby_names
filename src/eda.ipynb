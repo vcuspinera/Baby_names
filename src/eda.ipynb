{
 "cells": [
  {
   "cell_type": "markdown",
   "metadata": {},
   "source": [
    "# EDA"
   ]
  },
  {
   "cell_type": "markdown",
   "metadata": {},
   "source": [
    "## Libraries and data"
   ]
  },
  {
   "cell_type": "code",
   "execution_count": 1,
   "metadata": {},
   "outputs": [
    {
     "data": {
      "text/plain": [
       "RendererRegistry.enable('mimetype')"
      ]
     },
     "execution_count": 1,
     "metadata": {},
     "output_type": "execute_result"
    }
   ],
   "source": [
    "# General libraries\n",
    "import pandas as pd\n",
    "import numpy as np\n",
    "\n",
    "# To plot\n",
    "import altair as alt\n",
    "alt.renderers.enable('mimetype')"
   ]
  },
  {
   "cell_type": "code",
   "execution_count": 2,
   "metadata": {},
   "outputs": [],
   "source": [
    "# Parameters\n",
    "my_folder = \"../data/raw/USA/\"\n",
    "# years = np.arange(2000, 2020)\n",
    "years = np.arange(1995, 2020)\n",
    "\n",
    "# Open the file\n",
    "df = pd.DataFrame()\n",
    "for y in years:\n",
    "    aux = pd.read_csv(my_folder + 'yob' + str(y) + '.txt', \n",
    "                     header=None).rename(columns={0:'name', 1:'sex', 2:\"number\"})\n",
    "    aux['year'] = y\n",
    "    df = pd.concat([df, aux])\n",
    "df.name = [i.lower() for i in df.name]"
   ]
  },
  {
   "cell_type": "code",
   "execution_count": 4,
   "metadata": {},
   "outputs": [],
   "source": [
    "# Group by most repeated Female names and order them\n",
    "df_2 = df.groupby(['name', 'sex'])[['number']].sum().reset_index()\n",
    "df_2 = df_2[df_2['sex']=='F'].sort_values(by='number', ascending=False).reset_index()\n",
    "\n",
    "# merge original database with most repeated names\n",
    "df_3 = pd.merge(df_2['name'].head(10), df, how=\"inner\", on=[\"name\", \"name\"])"
   ]
  },
  {
   "cell_type": "markdown",
   "metadata": {},
   "source": [
    "### Top 10 names in the USA, in last 20 years"
   ]
  },
  {
   "cell_type": "code",
   "execution_count": 5,
   "metadata": {},
   "outputs": [
    {
     "data": {
      "application/vnd.vegalite.v4+json": {
       "$schema": "https://vega.github.io/schema/vega-lite/v4.8.1.json",
       "config": {
        "view": {
         "continuousHeight": 300,
         "continuousWidth": 400
        }
       },
       "data": {
        "name": "data-ab3fe9702eb7b4e28c06266efdee232b"
       },
       "datasets": {
        "data-ab3fe9702eb7b4e28c06266efdee232b": [
         {
          "name": "emily",
          "number": 24380,
          "sex": "F",
          "year": 1995
         },
         {
          "name": "emily",
          "number": 25151,
          "sex": "F",
          "year": 1996
         },
         {
          "name": "emily",
          "number": 25733,
          "sex": "F",
          "year": 1997
         },
         {
          "name": "emily",
          "number": 26183,
          "sex": "F",
          "year": 1998
         },
         {
          "name": "emily",
          "number": 26539,
          "sex": "F",
          "year": 1999
         },
         {
          "name": "emily",
          "number": 25957,
          "sex": "F",
          "year": 2000
         },
         {
          "name": "emily",
          "number": 25057,
          "sex": "F",
          "year": 2001
         },
         {
          "name": "emily",
          "number": 24466,
          "sex": "F",
          "year": 2002
         },
         {
          "name": "emily",
          "number": 25691,
          "sex": "F",
          "year": 2003
         },
         {
          "name": "emily",
          "number": 25039,
          "sex": "F",
          "year": 2004
         },
         {
          "name": "emily",
          "number": 23942,
          "sex": "F",
          "year": 2005
         },
         {
          "name": "emily",
          "number": 21408,
          "sex": "F",
          "year": 2006
         },
         {
          "name": "emily",
          "number": 19358,
          "sex": "F",
          "year": 2007
         },
         {
          "name": "emily",
          "number": 17436,
          "sex": "F",
          "year": 2008
         },
         {
          "name": "emily",
          "number": 15355,
          "sex": "F",
          "year": 2009
         },
         {
          "name": "emily",
          "number": 14276,
          "sex": "F",
          "year": 2010
         },
         {
          "name": "emily",
          "number": 14264,
          "sex": "F",
          "year": 2011
         },
         {
          "name": "emily",
          "number": 13657,
          "sex": "F",
          "year": 2012
         },
         {
          "name": "emily",
          "number": 13130,
          "sex": "F",
          "year": 2013
         },
         {
          "name": "emily",
          "number": 12650,
          "sex": "F",
          "year": 2014
         },
         {
          "name": "emily",
          "number": 11792,
          "sex": "F",
          "year": 2015
         },
         {
          "name": "emily",
          "number": 10988,
          "sex": "F",
          "year": 2016
         },
         {
          "name": "emily",
          "number": 9791,
          "sex": "F",
          "year": 2017
         },
         {
          "name": "emily",
          "number": 8689,
          "sex": "F",
          "year": 2018
         },
         {
          "name": "emily",
          "number": 8213,
          "sex": "F",
          "year": 2019
         },
         {
          "name": "emma",
          "number": 5046,
          "sex": "F",
          "year": 1995
         },
         {
          "name": "emma",
          "number": 6144,
          "sex": "F",
          "year": 1996
         },
         {
          "name": "emma",
          "number": 7745,
          "sex": "F",
          "year": 1997
         },
         {
          "name": "emma",
          "number": 10443,
          "sex": "F",
          "year": 1998
         },
         {
          "name": "emma",
          "number": 11738,
          "sex": "F",
          "year": 1999
         },
         {
          "name": "emma",
          "number": 12555,
          "sex": "F",
          "year": 2000
         },
         {
          "name": "emma",
          "number": 13312,
          "sex": "F",
          "year": 2001
         },
         {
          "name": "emma",
          "number": 16544,
          "sex": "F",
          "year": 2002
         },
         {
          "name": "emma",
          "number": 22708,
          "sex": "F",
          "year": 2003
         },
         {
          "name": "emma",
          "number": 21610,
          "sex": "F",
          "year": 2004
         },
         {
          "name": "emma",
          "number": 20348,
          "sex": "F",
          "year": 2005
         },
         {
          "name": "emma",
          "number": 19120,
          "sex": "F",
          "year": 2006
         },
         {
          "name": "emma",
          "number": 18376,
          "sex": "F",
          "year": 2007
         },
         {
          "name": "emma",
          "number": 18817,
          "sex": "F",
          "year": 2008
         },
         {
          "name": "emma",
          "number": 17900,
          "sex": "F",
          "year": 2009
         },
         {
          "name": "emma",
          "number": 17348,
          "sex": "F",
          "year": 2010
         },
         {
          "name": "emma",
          "number": 18807,
          "sex": "F",
          "year": 2011
         },
         {
          "name": "emma",
          "number": 20952,
          "sex": "F",
          "year": 2012
         },
         {
          "name": "emma",
          "number": 20950,
          "sex": "F",
          "year": 2013
         },
         {
          "name": "emma",
          "number": 20941,
          "sex": "F",
          "year": 2014
         },
         {
          "name": "emma",
          "number": 20463,
          "sex": "F",
          "year": 2015
         },
         {
          "name": "emma",
          "number": 19517,
          "sex": "F",
          "year": 2016
         },
         {
          "name": "emma",
          "number": 19830,
          "sex": "F",
          "year": 2017
         },
         {
          "name": "emma",
          "number": 18757,
          "sex": "F",
          "year": 2018
         },
         {
          "name": "emma",
          "number": 17102,
          "sex": "F",
          "year": 2019
         },
         {
          "name": "olivia",
          "number": 7624,
          "sex": "F",
          "year": 1995
         },
         {
          "name": "olivia",
          "number": 8123,
          "sex": "F",
          "year": 1996
         },
         {
          "name": "olivia",
          "number": 9477,
          "sex": "F",
          "year": 1997
         },
         {
          "name": "olivia",
          "number": 10610,
          "sex": "F",
          "year": 1998
         },
         {
          "name": "olivia",
          "number": 11255,
          "sex": "F",
          "year": 1999
         },
         {
          "name": "olivia",
          "number": 12852,
          "sex": "F",
          "year": 2000
         },
         {
          "name": "olivia",
          "number": 13977,
          "sex": "F",
          "year": 2001
         },
         {
          "name": "olivia",
          "number": 14630,
          "sex": "F",
          "year": 2002
         },
         {
          "name": "olivia",
          "number": 16152,
          "sex": "F",
          "year": 2003
         },
         {
          "name": "olivia",
          "number": 16105,
          "sex": "F",
          "year": 2004
         },
         {
          "name": "olivia",
          "number": 15694,
          "sex": "F",
          "year": 2005
         },
         {
          "name": "olivia",
          "number": 15501,
          "sex": "F",
          "year": 2006
         },
         {
          "name": "olivia",
          "number": 16584,
          "sex": "F",
          "year": 2007
         },
         {
          "name": "olivia",
          "number": 17084,
          "sex": "F",
          "year": 2008
         },
         {
          "name": "olivia",
          "number": 17437,
          "sex": "F",
          "year": 2009
         },
         {
          "name": "olivia",
          "number": 17029,
          "sex": "F",
          "year": 2010
         },
         {
          "name": "olivia",
          "number": 17327,
          "sex": "F",
          "year": 2011
         },
         {
          "name": "olivia",
          "number": 17319,
          "sex": "F",
          "year": 2012
         },
         {
          "name": "olivia",
          "number": 18436,
          "sex": "F",
          "year": 2013
         },
         {
          "name": "olivia",
          "number": 19817,
          "sex": "F",
          "year": 2014
         },
         {
          "name": "olivia",
          "number": 19705,
          "sex": "F",
          "year": 2015
         },
         {
          "name": "olivia",
          "number": 19378,
          "sex": "F",
          "year": 2016
         },
         {
          "name": "olivia",
          "number": 18737,
          "sex": "F",
          "year": 2017
         },
         {
          "name": "olivia",
          "number": 17993,
          "sex": "F",
          "year": 2018
         },
         {
          "name": "olivia",
          "number": 18451,
          "sex": "F",
          "year": 2019
         },
         {
          "name": "madison",
          "number": 9774,
          "sex": "F",
          "year": 1995
         },
         {
          "name": "madison",
          "number": 13410,
          "sex": "F",
          "year": 1996
         },
         {
          "name": "madison",
          "number": 15188,
          "sex": "F",
          "year": 1997
         },
         {
          "name": "madison",
          "number": 17787,
          "sex": "F",
          "year": 1998
         },
         {
          "name": "madison",
          "number": 18054,
          "sex": "F",
          "year": 1999
         },
         {
          "name": "madison",
          "number": 19968,
          "sex": "F",
          "year": 2000
         },
         {
          "name": "madison",
          "number": 22166,
          "sex": "F",
          "year": 2001
         },
         {
          "name": "madison",
          "number": 21773,
          "sex": "F",
          "year": 2002
         },
         {
          "name": "madison",
          "number": 20199,
          "sex": "F",
          "year": 2003
         },
         {
          "name": "madison",
          "number": 20625,
          "sex": "F",
          "year": 2004
         },
         {
          "name": "madison",
          "number": 19570,
          "sex": "F",
          "year": 2005
         },
         {
          "name": "madison",
          "number": 18628,
          "sex": "F",
          "year": 2006
         },
         {
          "name": "madison",
          "number": 17962,
          "sex": "F",
          "year": 2007
         },
         {
          "name": "madison",
          "number": 17034,
          "sex": "F",
          "year": 2008
         },
         {
          "name": "madison",
          "number": 15243,
          "sex": "F",
          "year": 2009
         },
         {
          "name": "madison",
          "number": 13188,
          "sex": "F",
          "year": 2010
         },
         {
          "name": "madison",
          "number": 12394,
          "sex": "F",
          "year": 2011
         },
         {
          "name": "madison",
          "number": 11404,
          "sex": "F",
          "year": 2012
         },
         {
          "name": "madison",
          "number": 10600,
          "sex": "F",
          "year": 2013
         },
         {
          "name": "madison",
          "number": 10323,
          "sex": "F",
          "year": 2014
         },
         {
          "name": "madison",
          "number": 10092,
          "sex": "F",
          "year": 2015
         },
         {
          "name": "madison",
          "number": 9037,
          "sex": "F",
          "year": 2016
         },
         {
          "name": "madison",
          "number": 7888,
          "sex": "F",
          "year": 2017
         },
         {
          "name": "madison",
          "number": 7063,
          "sex": "F",
          "year": 2018
         },
         {
          "name": "madison",
          "number": 6269,
          "sex": "F",
          "year": 2019
         },
         {
          "name": "isabella",
          "number": 1738,
          "sex": "F",
          "year": 1995
         },
         {
          "name": "isabella",
          "number": 2110,
          "sex": "F",
          "year": 1996
         },
         {
          "name": "isabella",
          "number": 2862,
          "sex": "F",
          "year": 1997
         },
         {
          "name": "isabella",
          "number": 3849,
          "sex": "F",
          "year": 1998
         },
         {
          "name": "isabella",
          "number": 5059,
          "sex": "F",
          "year": 1999
         },
         {
          "name": "isabella",
          "number": 6242,
          "sex": "F",
          "year": 2000
         },
         {
          "name": "isabella",
          "number": 8834,
          "sex": "F",
          "year": 2001
         },
         {
          "name": "isabella",
          "number": 12168,
          "sex": "F",
          "year": 2002
         },
         {
          "name": "isabella",
          "number": 13779,
          "sex": "F",
          "year": 2003
         },
         {
          "name": "isabella",
          "number": 15019,
          "sex": "F",
          "year": 2004
         },
         {
          "name": "isabella",
          "number": 15190,
          "sex": "F",
          "year": 2005
         },
         {
          "name": "isabella",
          "number": 18226,
          "sex": "F",
          "year": 2006
         },
         {
          "name": "isabella",
          "number": 19140,
          "sex": "F",
          "year": 2007
         },
         {
          "name": "isabella",
          "number": 18619,
          "sex": "F",
          "year": 2008
         },
         {
          "name": "isabella",
          "number": 22311,
          "sex": "F",
          "year": 2009
         },
         {
          "name": "isabella",
          "number": 22921,
          "sex": "F",
          "year": 2010
         },
         {
          "name": "isabella",
          "number": 19918,
          "sex": "F",
          "year": 2011
         },
         {
          "name": "isabella",
          "number": 19110,
          "sex": "F",
          "year": 2012
         },
         {
          "name": "isabella",
          "number": 17651,
          "sex": "F",
          "year": 2013
         },
         {
          "name": "isabella",
          "number": 17102,
          "sex": "F",
          "year": 2014
         },
         {
          "name": "isabella",
          "number": 15633,
          "sex": "F",
          "year": 2015
         },
         {
          "name": "isabella",
          "number": 14822,
          "sex": "F",
          "year": 2016
         },
         {
          "name": "isabella",
          "number": 15205,
          "sex": "F",
          "year": 2017
         },
         {
          "name": "isabella",
          "number": 14517,
          "sex": "F",
          "year": 2018
         },
         {
          "name": "isabella",
          "number": 13306,
          "sex": "F",
          "year": 2019
         },
         {
          "name": "hannah",
          "number": 17015,
          "sex": "F",
          "year": 1995
         },
         {
          "name": "hannah",
          "number": 18596,
          "sex": "F",
          "year": 1996
         },
         {
          "name": "hannah",
          "number": 20594,
          "sex": "F",
          "year": 1997
         },
         {
          "name": "hannah",
          "number": 21372,
          "sex": "F",
          "year": 1998
         },
         {
          "name": "hannah",
          "number": 21677,
          "sex": "F",
          "year": 1999
         },
         {
          "name": "hannah",
          "number": 23083,
          "sex": "F",
          "year": 2000
         },
         {
          "name": "hannah",
          "number": 20717,
          "sex": "F",
          "year": 2001
         },
         {
          "name": "hannah",
          "number": 18823,
          "sex": "F",
          "year": 2002
         },
         {
          "name": "hannah",
          "number": 17637,
          "sex": "F",
          "year": 2003
         },
         {
          "name": "hannah",
          "number": 15607,
          "sex": "F",
          "year": 2004
         },
         {
          "name": "hannah",
          "number": 14847,
          "sex": "F",
          "year": 2005
         },
         {
          "name": "hannah",
          "number": 14547,
          "sex": "F",
          "year": 2006
         },
         {
          "name": "hannah",
          "number": 13314,
          "sex": "F",
          "year": 2007
         },
         {
          "name": "hannah",
          "number": 9566,
          "sex": "F",
          "year": 2008
         },
         {
          "name": "hannah",
          "number": 7574,
          "sex": "F",
          "year": 2009
         },
         {
          "name": "hannah",
          "number": 6993,
          "sex": "F",
          "year": 2010
         },
         {
          "name": "hannah",
          "number": 6575,
          "sex": "F",
          "year": 2011
         },
         {
          "name": "hannah",
          "number": 7278,
          "sex": "F",
          "year": 2012
         },
         {
          "name": "hannah",
          "number": 7300,
          "sex": "F",
          "year": 2013
         },
         {
          "name": "hannah",
          "number": 6585,
          "sex": "F",
          "year": 2014
         },
         {
          "name": "hannah",
          "number": 6421,
          "sex": "F",
          "year": 2015
         },
         {
          "name": "hannah",
          "number": 6021,
          "sex": "F",
          "year": 2016
         },
         {
          "name": "hannah",
          "number": 5915,
          "sex": "F",
          "year": 2017
         },
         {
          "name": "hannah",
          "number": 5653,
          "sex": "F",
          "year": 2018
         },
         {
          "name": "hannah",
          "number": 5586,
          "sex": "F",
          "year": 2019
         },
         {
          "name": "abigail",
          "number": 7822,
          "sex": "F",
          "year": 1995
         },
         {
          "name": "abigail",
          "number": 8604,
          "sex": "F",
          "year": 1996
         },
         {
          "name": "abigail",
          "number": 9628,
          "sex": "F",
          "year": 1997
         },
         {
          "name": "abigail",
          "number": 11098,
          "sex": "F",
          "year": 1998
         },
         {
          "name": "abigail",
          "number": 11683,
          "sex": "F",
          "year": 1999
         },
         {
          "name": "abigail",
          "number": 13090,
          "sex": "F",
          "year": 2000
         },
         {
          "name": "abigail",
          "number": 14807,
          "sex": "F",
          "year": 2001
         },
         {
          "name": "abigail",
          "number": 15299,
          "sex": "F",
          "year": 2002
         },
         {
          "name": "abigail",
          "number": 15931,
          "sex": "F",
          "year": 2003
         },
         {
          "name": "abigail",
          "number": 15427,
          "sex": "F",
          "year": 2004
         },
         {
          "name": "abigail",
          "number": 15750,
          "sex": "F",
          "year": 2005
         },
         {
          "name": "abigail",
          "number": 15629,
          "sex": "F",
          "year": 2006
         },
         {
          "name": "abigail",
          "number": 15473,
          "sex": "F",
          "year": 2007
         },
         {
          "name": "abigail",
          "number": 15082,
          "sex": "F",
          "year": 2008
         },
         {
          "name": "abigail",
          "number": 14390,
          "sex": "F",
          "year": 2009
         },
         {
          "name": "abigail",
          "number": 14248,
          "sex": "F",
          "year": 2010
         },
         {
          "name": "abigail",
          "number": 13252,
          "sex": "F",
          "year": 2011
         },
         {
          "name": "abigail",
          "number": 12708,
          "sex": "F",
          "year": 2012
         },
         {
          "name": "abigail",
          "number": 12411,
          "sex": "F",
          "year": 2013
         },
         {
          "name": "abigail",
          "number": 12093,
          "sex": "F",
          "year": 2014
         },
         {
          "name": "abigail",
          "number": 12413,
          "sex": "F",
          "year": 2015
         },
         {
          "name": "abigail",
          "number": 11775,
          "sex": "F",
          "year": 2016
         },
         {
          "name": "abigail",
          "number": 10621,
          "sex": "F",
          "year": 2017
         },
         {
          "name": "abigail",
          "number": 9848,
          "sex": "F",
          "year": 2018
         },
         {
          "name": "abigail",
          "number": 9106,
          "sex": "F",
          "year": 2019
         },
         {
          "name": "sophia",
          "number": 1763,
          "sex": "F",
          "year": 1995
         },
         {
          "name": "sophia",
          "number": 2513,
          "sex": "F",
          "year": 1996
         },
         {
          "name": "sophia",
          "number": 3640,
          "sex": "F",
          "year": 1997
         },
         {
          "name": "sophia",
          "number": 4306,
          "sex": "F",
          "year": 1998
         },
         {
          "name": "sophia",
          "number": 5423,
          "sex": "F",
          "year": 1999
         },
         {
          "name": "sophia",
          "number": 6564,
          "sex": "F",
          "year": 2000
         },
         {
          "name": "sophia",
          "number": 7162,
          "sex": "F",
          "year": 2001
         },
         {
          "name": "sophia",
          "number": 8665,
          "sex": "F",
          "year": 2002
         },
         {
          "name": "sophia",
          "number": 9685,
          "sex": "F",
          "year": 2003
         },
         {
          "name": "sophia",
          "number": 10917,
          "sex": "F",
          "year": 2004
         },
         {
          "name": "sophia",
          "number": 12673,
          "sex": "F",
          "year": 2005
         },
         {
          "name": "sophia",
          "number": 13502,
          "sex": "F",
          "year": 2006
         },
         {
          "name": "sophia",
          "number": 17025,
          "sex": "F",
          "year": 2007
         },
         {
          "name": "sophia",
          "number": 16085,
          "sex": "F",
          "year": 2008
         },
         {
          "name": "sophia",
          "number": 16948,
          "sex": "F",
          "year": 2009
         },
         {
          "name": "sophia",
          "number": 20646,
          "sex": "F",
          "year": 2010
         },
         {
          "name": "sophia",
          "number": 21848,
          "sex": "F",
          "year": 2011
         },
         {
          "name": "sophia",
          "number": 22320,
          "sex": "F",
          "year": 2012
         },
         {
          "name": "sophia",
          "number": 21231,
          "sex": "F",
          "year": 2013
         },
         {
          "name": "sophia",
          "number": 18628,
          "sex": "F",
          "year": 2014
         },
         {
          "name": "sophia",
          "number": 17430,
          "sex": "F",
          "year": 2015
         },
         {
          "name": "sophia",
          "number": 16144,
          "sex": "F",
          "year": 2016
         },
         {
          "name": "sophia",
          "number": 14899,
          "sex": "F",
          "year": 2017
         },
         {
          "name": "sophia",
          "number": 13972,
          "sex": "F",
          "year": 2018
         },
         {
          "name": "sophia",
          "number": 13714,
          "sex": "F",
          "year": 2019
         },
         {
          "name": "elizabeth",
          "number": 16188,
          "sex": "F",
          "year": 1995
         },
         {
          "name": "elizabeth",
          "number": 16000,
          "sex": "F",
          "year": 1996
         },
         {
          "name": "elizabeth",
          "number": 15425,
          "sex": "F",
          "year": 1997
         },
         {
          "name": "elizabeth",
          "number": 15190,
          "sex": "F",
          "year": 1998
         },
         {
          "name": "elizabeth",
          "number": 15348,
          "sex": "F",
          "year": 1999
         },
         {
          "name": "elizabeth",
          "number": 15105,
          "sex": "F",
          "year": 2000
         },
         {
          "name": "elizabeth",
          "number": 14788,
          "sex": "F",
          "year": 2001
         },
         {
          "name": "elizabeth",
          "number": 14608,
          "sex": "F",
          "year": 2002
         },
         {
          "name": "elizabeth",
          "number": 14108,
          "sex": "F",
          "year": 2003
         },
         {
          "name": "elizabeth",
          "number": 13561,
          "sex": "F",
          "year": 2004
         },
         {
          "name": "elizabeth",
          "number": 12732,
          "sex": "F",
          "year": 2005
         },
         {
          "name": "elizabeth",
          "number": 12431,
          "sex": "F",
          "year": 2006
         },
         {
          "name": "elizabeth",
          "number": 13057,
          "sex": "F",
          "year": 2007
         },
         {
          "name": "elizabeth",
          "number": 12012,
          "sex": "F",
          "year": 2008
         },
         {
          "name": "elizabeth",
          "number": 11039,
          "sex": "F",
          "year": 2009
         },
         {
          "name": "elizabeth",
          "number": 10263,
          "sex": "F",
          "year": 2010
         },
         {
          "name": "elizabeth",
          "number": 10095,
          "sex": "F",
          "year": 2011
         },
         {
          "name": "elizabeth",
          "number": 9714,
          "sex": "F",
          "year": 2012
         },
         {
          "name": "elizabeth",
          "number": 9457,
          "sex": "F",
          "year": 2013
         },
         {
          "name": "elizabeth",
          "number": 9571,
          "sex": "F",
          "year": 2014
         },
         {
          "name": "elizabeth",
          "number": 9743,
          "sex": "F",
          "year": 2015
         },
         {
          "name": "elizabeth",
          "number": 9565,
          "sex": "F",
          "year": 2016
         },
         {
          "name": "elizabeth",
          "number": 8975,
          "sex": "F",
          "year": 2017
         },
         {
          "name": "elizabeth",
          "number": 8560,
          "sex": "F",
          "year": 2018
         },
         {
          "name": "elizabeth",
          "number": 7844,
          "sex": "F",
          "year": 2019
         },
         {
          "name": "samantha",
          "number": 21643,
          "sex": "F",
          "year": 1995
         },
         {
          "name": "samantha",
          "number": 20549,
          "sex": "F",
          "year": 1996
         },
         {
          "name": "samantha",
          "number": 20169,
          "sex": "F",
          "year": 1997
         },
         {
          "name": "samantha",
          "number": 20193,
          "sex": "F",
          "year": 1998
         },
         {
          "name": "samantha",
          "number": 19039,
          "sex": "F",
          "year": 1999
         },
         {
          "name": "samantha",
          "number": 17265,
          "sex": "F",
          "year": 2000
         },
         {
          "name": "samantha",
          "number": 15865,
          "sex": "F",
          "year": 2001
         },
         {
          "name": "samantha",
          "number": 14669,
          "sex": "F",
          "year": 2002
         },
         {
          "name": "samantha",
          "number": 13867,
          "sex": "F",
          "year": 2003
         },
         {
          "name": "samantha",
          "number": 13783,
          "sex": "F",
          "year": 2004
         },
         {
          "name": "samantha",
          "number": 13638,
          "sex": "F",
          "year": 2005
         },
         {
          "name": "samantha",
          "number": 12464,
          "sex": "F",
          "year": 2006
         },
         {
          "name": "samantha",
          "number": 11881,
          "sex": "F",
          "year": 2007
         },
         {
          "name": "samantha",
          "number": 11184,
          "sex": "F",
          "year": 2008
         },
         {
          "name": "samantha",
          "number": 9662,
          "sex": "F",
          "year": 2009
         },
         {
          "name": "samantha",
          "number": 8408,
          "sex": "F",
          "year": 2010
         },
         {
          "name": "samantha",
          "number": 7396,
          "sex": "F",
          "year": 2011
         },
         {
          "name": "samantha",
          "number": 6932,
          "sex": "F",
          "year": 2012
         },
         {
          "name": "samantha",
          "number": 6509,
          "sex": "F",
          "year": 2013
         },
         {
          "name": "samantha",
          "number": 5730,
          "sex": "F",
          "year": 2014
         },
         {
          "name": "samantha",
          "number": 5343,
          "sex": "F",
          "year": 2015
         },
         {
          "name": "samantha",
          "number": 4953,
          "sex": "F",
          "year": 2016
         },
         {
          "name": "samantha",
          "number": 4322,
          "sex": "F",
          "year": 2017
         },
         {
          "name": "samantha",
          "number": 3910,
          "sex": "F",
          "year": 2018
         },
         {
          "name": "samantha",
          "number": 3351,
          "sex": "F",
          "year": 2019
         }
        ]
       },
       "encoding": {
        "color": {
         "field": "name",
         "title": "Name",
         "type": "nominal"
        },
        "tooltip": [
         {
          "field": "name",
          "type": "nominal"
         },
         {
          "field": "year",
          "type": "quantitative"
         },
         {
          "field": "number",
          "type": "quantitative"
         }
        ],
        "x": {
         "field": "year",
         "title": "Year",
         "type": "ordinal"
        },
        "y": {
         "field": "number",
         "title": "Number of occurrences",
         "type": "quantitative"
        }
       },
       "mark": "line"
      },
      "image/png": "[encoded data removed]",
      "text/plain": [
       "<VegaLite 4 object>\n",
       "\n",
       "If you see this message, it means the renderer has not been properly enabled\n",
       "for the frontend that you are using. For more information, see\n",
       "https://altair-viz.github.io/user_guide/troubleshooting.html\n"
      ]
     },
     "execution_count": 5,
     "metadata": {},
     "output_type": "execute_result"
    }
   ],
   "source": [
    "alt.Chart(df_3[df_3.sex==\"F\"]).mark_line().encode(\n",
    "    alt.X(\"year:O\", title=\"Year\"),\n",
    "    alt.Y(\"number\", title=\"Number of occurrences\"),\n",
    "    alt.Color(\"name\", title=\"Name\"),\n",
    "    tooltip = ['name', 'year', 'number']\n",
    ")"
   ]
  },
  {
   "cell_type": "markdown",
   "metadata": {},
   "source": [
    "### Our selected names"
   ]
  },
  {
   "cell_type": "code",
   "execution_count": 25,
   "metadata": {},
   "outputs": [
    {
     "data": {
      "text/html": [
       "<div>\n",
       "<style scoped>\n",
       "    .dataframe tbody tr th:only-of-type {\n",
       "        vertical-align: middle;\n",
       "    }\n",
       "\n",
       "    .dataframe tbody tr th {\n",
       "        vertical-align: top;\n",
       "    }\n",
       "\n",
       "    .dataframe thead th {\n",
       "        text-align: right;\n",
       "    }\n",
       "</style>\n",
       "<table border=\"1\" class=\"dataframe\">\n",
       "  <thead>\n",
       "    <tr style=\"text-align: right;\">\n",
       "      <th></th>\n",
       "      <th>name</th>\n",
       "    </tr>\n",
       "  </thead>\n",
       "  <tbody>\n",
       "    <tr>\n",
       "      <th>0</th>\n",
       "      <td>macarena</td>\n",
       "    </tr>\n",
       "    <tr>\n",
       "      <th>1</th>\n",
       "      <td>elisa</td>\n",
       "    </tr>\n",
       "    <tr>\n",
       "      <th>2</th>\n",
       "      <td>victoria</td>\n",
       "    </tr>\n",
       "    <tr>\n",
       "      <th>3</th>\n",
       "      <td>gina</td>\n",
       "    </tr>\n",
       "    <tr>\n",
       "      <th>4</th>\n",
       "      <td>aisha</td>\n",
       "    </tr>\n",
       "    <tr>\n",
       "      <th>5</th>\n",
       "      <td>carlina</td>\n",
       "    </tr>\n",
       "  </tbody>\n",
       "</table>\n",
       "</div>"
      ],
      "text/plain": [
       "       name\n",
       "0  macarena\n",
       "1     elisa\n",
       "2  victoria\n",
       "3      gina\n",
       "4     aisha\n",
       "5   carlina"
      ]
     },
     "execution_count": 25,
     "metadata": {},
     "output_type": "execute_result"
    }
   ],
   "source": [
    "names = ['Macarena', 'Elisa', 'Victoria', 'Gina', 'Aisha', 'Carlina']\n",
    "names = pd.DataFrame([i.lower() for i in names]).rename(columns={0:\"name\"})\n",
    "names"
   ]
  },
  {
   "cell_type": "code",
   "execution_count": 26,
   "metadata": {},
   "outputs": [
    {
     "data": {
      "text/html": [
       "<div>\n",
       "<style scoped>\n",
       "    .dataframe tbody tr th:only-of-type {\n",
       "        vertical-align: middle;\n",
       "    }\n",
       "\n",
       "    .dataframe tbody tr th {\n",
       "        vertical-align: top;\n",
       "    }\n",
       "\n",
       "    .dataframe thead th {\n",
       "        text-align: right;\n",
       "    }\n",
       "</style>\n",
       "<table border=\"1\" class=\"dataframe\">\n",
       "  <thead>\n",
       "    <tr style=\"text-align: right;\">\n",
       "      <th></th>\n",
       "      <th>name</th>\n",
       "      <th>sex</th>\n",
       "      <th>number</th>\n",
       "      <th>year</th>\n",
       "    </tr>\n",
       "  </thead>\n",
       "  <tbody>\n",
       "    <tr>\n",
       "      <th>0</th>\n",
       "      <td>macarena</td>\n",
       "      <td>F</td>\n",
       "      <td>18</td>\n",
       "      <td>1995</td>\n",
       "    </tr>\n",
       "    <tr>\n",
       "      <th>1</th>\n",
       "      <td>macarena</td>\n",
       "      <td>F</td>\n",
       "      <td>6</td>\n",
       "      <td>1996</td>\n",
       "    </tr>\n",
       "    <tr>\n",
       "      <th>2</th>\n",
       "      <td>macarena</td>\n",
       "      <td>F</td>\n",
       "      <td>5</td>\n",
       "      <td>1997</td>\n",
       "    </tr>\n",
       "    <tr>\n",
       "      <th>3</th>\n",
       "      <td>macarena</td>\n",
       "      <td>F</td>\n",
       "      <td>10</td>\n",
       "      <td>2001</td>\n",
       "    </tr>\n",
       "    <tr>\n",
       "      <th>4</th>\n",
       "      <td>macarena</td>\n",
       "      <td>F</td>\n",
       "      <td>12</td>\n",
       "      <td>2002</td>\n",
       "    </tr>\n",
       "    <tr>\n",
       "      <th>...</th>\n",
       "      <td>...</td>\n",
       "      <td>...</td>\n",
       "      <td>...</td>\n",
       "      <td>...</td>\n",
       "    </tr>\n",
       "    <tr>\n",
       "      <th>158</th>\n",
       "      <td>carlina</td>\n",
       "      <td>F</td>\n",
       "      <td>16</td>\n",
       "      <td>2015</td>\n",
       "    </tr>\n",
       "    <tr>\n",
       "      <th>159</th>\n",
       "      <td>carlina</td>\n",
       "      <td>F</td>\n",
       "      <td>19</td>\n",
       "      <td>2016</td>\n",
       "    </tr>\n",
       "    <tr>\n",
       "      <th>160</th>\n",
       "      <td>carlina</td>\n",
       "      <td>F</td>\n",
       "      <td>11</td>\n",
       "      <td>2017</td>\n",
       "    </tr>\n",
       "    <tr>\n",
       "      <th>161</th>\n",
       "      <td>carlina</td>\n",
       "      <td>F</td>\n",
       "      <td>12</td>\n",
       "      <td>2018</td>\n",
       "    </tr>\n",
       "    <tr>\n",
       "      <th>162</th>\n",
       "      <td>carlina</td>\n",
       "      <td>F</td>\n",
       "      <td>12</td>\n",
       "      <td>2019</td>\n",
       "    </tr>\n",
       "  </tbody>\n",
       "</table>\n",
       "<p>163 rows × 4 columns</p>\n",
       "</div>"
      ],
      "text/plain": [
       "         name sex  number  year\n",
       "0    macarena   F      18  1995\n",
       "1    macarena   F       6  1996\n",
       "2    macarena   F       5  1997\n",
       "3    macarena   F      10  2001\n",
       "4    macarena   F      12  2002\n",
       "..        ...  ..     ...   ...\n",
       "158   carlina   F      16  2015\n",
       "159   carlina   F      19  2016\n",
       "160   carlina   F      11  2017\n",
       "161   carlina   F      12  2018\n",
       "162   carlina   F      12  2019\n",
       "\n",
       "[163 rows x 4 columns]"
      ]
     },
     "execution_count": 26,
     "metadata": {},
     "output_type": "execute_result"
    }
   ],
   "source": [
    "# merge original database with most repeated names\n",
    "df_3 = pd.merge(names, df, how=\"inner\", on=[\"name\", \"name\"])\n",
    "df_3"
   ]
  },
  {
   "cell_type": "code",
   "execution_count": 27,
   "metadata": {},
   "outputs": [
    {
     "data": {
      "application/vnd.vegalite.v4+json": {
       "$schema": "https://vega.github.io/schema/vega-lite/v4.8.1.json",
       "config": {
        "view": {
         "continuousHeight": 300,
         "continuousWidth": 400
        }
       },
       "data": {
        "name": "data-0eb0ad246747d2113081b0ead8b2f58d"
       },
       "datasets": {
        "data-0eb0ad246747d2113081b0ead8b2f58d": [
         {
          "name": "macarena",
          "number": 18,
          "sex": "F",
          "year": 1995
         },
         {
          "name": "macarena",
          "number": 6,
          "sex": "F",
          "year": 1996
         },
         {
          "name": "macarena",
          "number": 5,
          "sex": "F",
          "year": 1997
         },
         {
          "name": "macarena",
          "number": 10,
          "sex": "F",
          "year": 2001
         },
         {
          "name": "macarena",
          "number": 12,
          "sex": "F",
          "year": 2002
         },
         {
          "name": "macarena",
          "number": 6,
          "sex": "F",
          "year": 2003
         },
         {
          "name": "macarena",
          "number": 7,
          "sex": "F",
          "year": 2004
         },
         {
          "name": "macarena",
          "number": 10,
          "sex": "F",
          "year": 2006
         },
         {
          "name": "macarena",
          "number": 6,
          "sex": "F",
          "year": 2007
         },
         {
          "name": "macarena",
          "number": 5,
          "sex": "F",
          "year": 2009
         },
         {
          "name": "macarena",
          "number": 8,
          "sex": "F",
          "year": 2015
         },
         {
          "name": "macarena",
          "number": 7,
          "sex": "F",
          "year": 2018
         },
         {
          "name": "macarena",
          "number": 17,
          "sex": "F",
          "year": 2019
         },
         {
          "name": "elisa",
          "number": 546,
          "sex": "F",
          "year": 1995
         },
         {
          "name": "elisa",
          "number": 576,
          "sex": "F",
          "year": 1996
         },
         {
          "name": "elisa",
          "number": 562,
          "sex": "F",
          "year": 1997
         },
         {
          "name": "elisa",
          "number": 547,
          "sex": "F",
          "year": 1998
         },
         {
          "name": "elisa",
          "number": 497,
          "sex": "F",
          "year": 1999
         },
         {
          "name": "elisa",
          "number": 509,
          "sex": "F",
          "year": 2000
         },
         {
          "name": "elisa",
          "number": 557,
          "sex": "F",
          "year": 2001
         },
         {
          "name": "elisa",
          "number": 559,
          "sex": "F",
          "year": 2002
         },
         {
          "name": "elisa",
          "number": 551,
          "sex": "F",
          "year": 2003
         },
         {
          "name": "elisa",
          "number": 593,
          "sex": "F",
          "year": 2004
         },
         {
          "name": "elisa",
          "number": 541,
          "sex": "F",
          "year": 2005
         },
         {
          "name": "elisa",
          "number": 542,
          "sex": "F",
          "year": 2006
         },
         {
          "name": "elisa",
          "number": 554,
          "sex": "F",
          "year": 2007
         },
         {
          "name": "elisa",
          "number": 492,
          "sex": "F",
          "year": 2008
         },
         {
          "name": "elisa",
          "number": 472,
          "sex": "F",
          "year": 2009
         },
         {
          "name": "elisa",
          "number": 602,
          "sex": "F",
          "year": 2010
         },
         {
          "name": "elisa",
          "number": 543,
          "sex": "F",
          "year": 2011
         },
         {
          "name": "elisa",
          "number": 848,
          "sex": "F",
          "year": 2012
         },
         {
          "name": "elisa",
          "number": 657,
          "sex": "F",
          "year": 2013
         },
         {
          "name": "elisa",
          "number": 619,
          "sex": "F",
          "year": 2014
         },
         {
          "name": "elisa",
          "number": 656,
          "sex": "F",
          "year": 2015
         },
         {
          "name": "elisa",
          "number": 632,
          "sex": "F",
          "year": 2016
         },
         {
          "name": "elisa",
          "number": 616,
          "sex": "F",
          "year": 2017
         },
         {
          "name": "elisa",
          "number": 689,
          "sex": "F",
          "year": 2018
         },
         {
          "name": "elisa",
          "number": 710,
          "sex": "F",
          "year": 2019
         },
         {
          "name": "victoria",
          "number": 12251,
          "sex": "F",
          "year": 1995
         },
         {
          "name": "victoria",
          "number": 11861,
          "sex": "F",
          "year": 1996
         },
         {
          "name": "victoria",
          "number": 11791,
          "sex": "F",
          "year": 1997
         },
         {
          "name": "victoria",
          "number": 12147,
          "sex": "F",
          "year": 1998
         },
         {
          "name": "victoria",
          "number": 11872,
          "sex": "F",
          "year": 1999
         },
         {
          "name": "victoria",
          "number": 10926,
          "sex": "F",
          "year": 2000
         },
         {
          "name": "victoria",
          "number": 10179,
          "sex": "F",
          "year": 2001
         },
         {
          "name": "victoria",
          "number": 9784,
          "sex": "F",
          "year": 2002
         },
         {
          "name": "victoria",
          "number": 9244,
          "sex": "F",
          "year": 2003
         },
         {
          "name": "victoria",
          "number": 8277,
          "sex": "F",
          "year": 2004
         },
         {
          "name": "victoria",
          "number": 7958,
          "sex": "F",
          "year": 2005
         },
         {
          "name": "victoria",
          "number": 7650,
          "sex": "F",
          "year": 2006
         },
         {
          "name": "victoria",
          "number": 7432,
          "sex": "F",
          "year": 2007
         },
         {
          "name": "victoria",
          "number": 7122,
          "sex": "F",
          "year": 2008
         },
         {
          "name": "victoria",
          "number": 6364,
          "sex": "F",
          "year": 2009
         },
         {
          "name": "victoria",
          "number": 6229,
          "sex": "F",
          "year": 2010
         },
         {
          "name": "victoria",
          "number": 6890,
          "sex": "F",
          "year": 2011
         },
         {
          "name": "victoria",
          "number": 6864,
          "sex": "F",
          "year": 2012
         },
         {
          "name": "victoria",
          "number": 7208,
          "sex": "F",
          "year": 2013
         },
         {
          "name": "victoria",
          "number": 7998,
          "sex": "F",
          "year": 2014
         },
         {
          "name": "victoria",
          "number": 7617,
          "sex": "F",
          "year": 2015
         },
         {
          "name": "victoria",
          "number": 7314,
          "sex": "F",
          "year": 2016
         },
         {
          "name": "victoria",
          "number": 7297,
          "sex": "F",
          "year": 2017
         },
         {
          "name": "victoria",
          "number": 7111,
          "sex": "F",
          "year": 2018
         },
         {
          "name": "victoria",
          "number": 6344,
          "sex": "F",
          "year": 2019
         },
         {
          "name": "gina",
          "number": 1401,
          "sex": "F",
          "year": 1995
         },
         {
          "name": "gina",
          "number": 1190,
          "sex": "F",
          "year": 1996
         },
         {
          "name": "gina",
          "number": 1150,
          "sex": "F",
          "year": 1997
         },
         {
          "name": "gina",
          "number": 1016,
          "sex": "F",
          "year": 1998
         },
         {
          "name": "gina",
          "number": 1001,
          "sex": "F",
          "year": 1999
         },
         {
          "name": "gina",
          "number": 855,
          "sex": "F",
          "year": 2000
         },
         {
          "name": "gina",
          "number": 748,
          "sex": "F",
          "year": 2001
         },
         {
          "name": "gina",
          "number": 701,
          "sex": "F",
          "year": 2002
         },
         {
          "name": "gina",
          "number": 641,
          "sex": "F",
          "year": 2003
         },
         {
          "name": "gina",
          "number": 492,
          "sex": "F",
          "year": 2004
         },
         {
          "name": "gina",
          "number": 476,
          "sex": "F",
          "year": 2005
         },
         {
          "name": "gina",
          "number": 403,
          "sex": "F",
          "year": 2006
         },
         {
          "name": "gina",
          "number": 354,
          "sex": "F",
          "year": 2007
         },
         {
          "name": "gina",
          "number": 326,
          "sex": "F",
          "year": 2008
         },
         {
          "name": "gina",
          "number": 260,
          "sex": "F",
          "year": 2009
         },
         {
          "name": "gina",
          "number": 207,
          "sex": "F",
          "year": 2010
         },
         {
          "name": "gina",
          "number": 163,
          "sex": "F",
          "year": 2011
         },
         {
          "name": "gina",
          "number": 172,
          "sex": "F",
          "year": 2012
         },
         {
          "name": "gina",
          "number": 141,
          "sex": "F",
          "year": 2013
         },
         {
          "name": "gina",
          "number": 154,
          "sex": "F",
          "year": 2014
         },
         {
          "name": "gina",
          "number": 103,
          "sex": "F",
          "year": 2015
         },
         {
          "name": "gina",
          "number": 114,
          "sex": "F",
          "year": 2016
         },
         {
          "name": "gina",
          "number": 125,
          "sex": "F",
          "year": 2017
         },
         {
          "name": "gina",
          "number": 112,
          "sex": "F",
          "year": 2018
         },
         {
          "name": "gina",
          "number": 118,
          "sex": "F",
          "year": 2019
         },
         {
          "name": "aisha",
          "number": 420,
          "sex": "F",
          "year": 1995
         },
         {
          "name": "aisha",
          "number": 413,
          "sex": "F",
          "year": 1996
         },
         {
          "name": "aisha",
          "number": 353,
          "sex": "F",
          "year": 1997
         },
         {
          "name": "aisha",
          "number": 398,
          "sex": "F",
          "year": 1998
         },
         {
          "name": "aisha",
          "number": 325,
          "sex": "F",
          "year": 1999
         },
         {
          "name": "aisha",
          "number": 341,
          "sex": "F",
          "year": 2000
         },
         {
          "name": "aisha",
          "number": 369,
          "sex": "F",
          "year": 2001
         },
         {
          "name": "aisha",
          "number": 406,
          "sex": "F",
          "year": 2002
         },
         {
          "name": "aisha",
          "number": 424,
          "sex": "F",
          "year": 2003
         },
         {
          "name": "aisha",
          "number": 415,
          "sex": "F",
          "year": 2004
         },
         {
          "name": "aisha",
          "number": 371,
          "sex": "F",
          "year": 2005
         },
         {
          "name": "aisha",
          "number": 413,
          "sex": "F",
          "year": 2006
         },
         {
          "name": "aisha",
          "number": 418,
          "sex": "F",
          "year": 2007
         },
         {
          "name": "aisha",
          "number": 384,
          "sex": "F",
          "year": 2008
         },
         {
          "name": "aisha",
          "number": 385,
          "sex": "F",
          "year": 2009
         },
         {
          "name": "aisha",
          "number": 417,
          "sex": "F",
          "year": 2010
         },
         {
          "name": "aisha",
          "number": 447,
          "sex": "F",
          "year": 2011
         },
         {
          "name": "aisha",
          "number": 503,
          "sex": "F",
          "year": 2012
         },
         {
          "name": "aisha",
          "number": 507,
          "sex": "F",
          "year": 2013
         },
         {
          "name": "aisha",
          "number": 544,
          "sex": "F",
          "year": 2014
         },
         {
          "name": "aisha",
          "number": 649,
          "sex": "F",
          "year": 2015
         },
         {
          "name": "aisha",
          "number": 618,
          "sex": "F",
          "year": 2016
         },
         {
          "name": "aisha",
          "number": 561,
          "sex": "F",
          "year": 2017
         },
         {
          "name": "aisha",
          "number": 598,
          "sex": "F",
          "year": 2018
         },
         {
          "name": "aisha",
          "number": 574,
          "sex": "F",
          "year": 2019
         },
         {
          "name": "carlina",
          "number": 13,
          "sex": "F",
          "year": 1995
         },
         {
          "name": "carlina",
          "number": 16,
          "sex": "F",
          "year": 1996
         },
         {
          "name": "carlina",
          "number": 27,
          "sex": "F",
          "year": 1997
         },
         {
          "name": "carlina",
          "number": 19,
          "sex": "F",
          "year": 1998
         },
         {
          "name": "carlina",
          "number": 19,
          "sex": "F",
          "year": 1999
         },
         {
          "name": "carlina",
          "number": 20,
          "sex": "F",
          "year": 2000
         },
         {
          "name": "carlina",
          "number": 17,
          "sex": "F",
          "year": 2001
         },
         {
          "name": "carlina",
          "number": 27,
          "sex": "F",
          "year": 2002
         },
         {
          "name": "carlina",
          "number": 22,
          "sex": "F",
          "year": 2003
         },
         {
          "name": "carlina",
          "number": 29,
          "sex": "F",
          "year": 2004
         },
         {
          "name": "carlina",
          "number": 21,
          "sex": "F",
          "year": 2005
         },
         {
          "name": "carlina",
          "number": 31,
          "sex": "F",
          "year": 2006
         },
         {
          "name": "carlina",
          "number": 28,
          "sex": "F",
          "year": 2007
         },
         {
          "name": "carlina",
          "number": 27,
          "sex": "F",
          "year": 2008
         },
         {
          "name": "carlina",
          "number": 26,
          "sex": "F",
          "year": 2009
         },
         {
          "name": "carlina",
          "number": 12,
          "sex": "F",
          "year": 2010
         },
         {
          "name": "carlina",
          "number": 13,
          "sex": "F",
          "year": 2011
         },
         {
          "name": "carlina",
          "number": 31,
          "sex": "F",
          "year": 2012
         },
         {
          "name": "carlina",
          "number": 25,
          "sex": "F",
          "year": 2013
         },
         {
          "name": "carlina",
          "number": 16,
          "sex": "F",
          "year": 2014
         },
         {
          "name": "carlina",
          "number": 16,
          "sex": "F",
          "year": 2015
         },
         {
          "name": "carlina",
          "number": 19,
          "sex": "F",
          "year": 2016
         },
         {
          "name": "carlina",
          "number": 11,
          "sex": "F",
          "year": 2017
         },
         {
          "name": "carlina",
          "number": 12,
          "sex": "F",
          "year": 2018
         },
         {
          "name": "carlina",
          "number": 12,
          "sex": "F",
          "year": 2019
         }
        ]
       },
       "encoding": {
        "color": {
         "field": "name",
         "type": "nominal"
        },
        "tooltip": [
         {
          "field": "name",
          "type": "nominal"
         },
         {
          "field": "year",
          "type": "quantitative"
         },
         {
          "field": "number",
          "type": "quantitative"
         }
        ],
        "x": {
         "field": "year",
         "title": "Year",
         "type": "ordinal"
        },
        "y": {
         "field": "number",
         "scale": {
          "type": "log"
         },
         "type": "quantitative"
        }
       },
       "mark": "line"
      },
      "image/png": "[encoded data removed]",
      "text/plain": [
       "<VegaLite 4 object>\n",
       "\n",
       "If you see this message, it means the renderer has not been properly enabled\n",
       "for the frontend that you are using. For more information, see\n",
       "https://altair-viz.github.io/user_guide/troubleshooting.html\n"
      ]
     },
     "execution_count": 27,
     "metadata": {},
     "output_type": "execute_result"
    }
   ],
   "source": [
    "alt.Chart(df_3[df_3.sex==\"F\"]).mark_line().encode(\n",
    "    alt.X(\"year:O\", title=\"Year\"),\n",
    "    alt.Y(\"number\", scale=alt.Scale(type='log')),\n",
    "    alt.Color(\"name\"),\n",
    "    tooltip = ['name', 'year', 'number']\n",
    ")"
   ]
  },
  {
   "cell_type": "code",
   "execution_count": null,
   "metadata": {},
   "outputs": [],
   "source": []
  }
 ],
 "metadata": {
  "kernelspec": {
   "display_name": "Python 3",
   "language": "python",
   "name": "python3"
  },
  "language_info": {
   "codemirror_mode": {
    "name": "ipython",
    "version": 3
   },
   "file_extension": ".py",
   "mimetype": "text/x-python",
   "name": "python",
   "nbconvert_exporter": "python",
   "pygments_lexer": "ipython3",
   "version": "3.7.7"
  }
 },
 "nbformat": 4,
 "nbformat_minor": 4
}
