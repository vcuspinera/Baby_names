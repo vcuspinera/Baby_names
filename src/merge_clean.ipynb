{
 "cells": [
  {
   "cell_type": "markdown",
   "metadata": {},
   "source": [
    "# Merge and clean databases\n",
    "## Libraries"
   ]
  },
  {
   "cell_type": "code",
   "execution_count": 1,
   "metadata": {},
   "outputs": [],
   "source": [
    "# General libraries\n",
    "import pandas as pd\n",
    "import numpy as np\n",
    "import re\n",
    "from nltk.tokenize import word_tokenize"
   ]
  },
  {
   "cell_type": "markdown",
   "metadata": {},
   "source": [
    "## Spain data\n",
    "### Most frequent names by year\n",
    "I download the data of the [100 most frequent names from 2002 to 2019 in Spain](https://www.ine.es/dyngs/INEbase/es/operacion.htm?c=Estadistica_C&cid=1254736177009&menu=resultados&idp=1254734710990#!tabs-1254736195454), shared by the Instituto Nacional de Estadistica."
   ]
  },
  {
   "cell_type": "code",
   "execution_count": 2,
   "metadata": {},
   "outputs": [],
   "source": [
    "# Parameters\n",
    "my_folder = \"../data/raw/Spain/\"\n",
    "years = np.arange(2002, 2020)\n",
    "\n",
    "# Open the files\n",
    "df_sp = pd.DataFrame()\n",
    "aux = pd.DataFrame()\n",
    "for y in years:\n",
    "    for i in ['nacional', 'Nacional', 'NACIONAL', 'TOTAL']:\n",
    "        for j in ['.xls', '.xlsx']:\n",
    "            try:\n",
    "                aux = pd.read_excel(my_folder+'nomnac'+str(y)[-2:]+j, \n",
    "                                    sheet_name=i,\n",
    "                                    skiprows=4, \n",
    "                                    header=None\n",
    "                                   )\n",
    "                try:\n",
    "                    aux.columns = ['name_m', 'number_m', 'erase', 'name_f', 'number_f']\n",
    "                except:\n",
    "                    aux.columns = ['name_m', 'number_m', 'erase_1', 'name_f', 'number_f', 'erase_2']\n",
    "            except:\n",
    "                next\n",
    "    aux['year'] = y\n",
    "    aux = aux[['name_m', 'number_m', 'name_f', 'number_f', 'year']]\n",
    "    df_sp = pd.concat([df_sp, aux])"
   ]
  },
  {
   "cell_type": "code",
   "execution_count": 3,
   "metadata": {},
   "outputs": [],
   "source": [
    "# Wrangling data\n",
    "# df_sp.drop(columns=[\"erase\"])\n",
    "males = df_sp[['name_m', 'number_m', 'year']]\\\n",
    "    .rename(columns={'name_m':'name', 'number_m': 'number'})\n",
    "males['sex'] = \"M\"\n",
    "females = df_sp[['name_f', 'number_f', 'year']]\\\n",
    "    .rename(columns={'name_f':'name', 'number_f': 'number'})\n",
    "females['sex'] = \"F\"\n",
    "df = pd.concat([females, males]).reset_index(drop=True)\n",
    "\n",
    "# Names in lowercase\n",
    "df.name = [str(n).lower() for n in df.name]\n",
    "\n",
    "# Clean names\n",
    "df.name = [re.sub(r'^\\s+([A-Za-z])', r'\\1', name) for name in df.name]\n",
    "df.name = [re.sub(r'([A-Za-z0-9]+\\s?[A-Za-z0-9]+)\\s*$', r'\\1', name) for name in df.name]\n",
    "df = df[~((df.name=='total') | (df.name=='nan') | (df.name==' '))]\n",
    "df['number'] = df['number'].astype(int)\n",
    "\n",
    "# # Names in tokens\n",
    "# df['tokens'] = [word_tokenize(n) for n in df.name]"
   ]
  },
  {
   "cell_type": "code",
   "execution_count": 4,
   "metadata": {},
   "outputs": [],
   "source": [
    "# Save the data to CSV file\n",
    "df.to_csv('../data/names/names_spain.csv')"
   ]
  },
  {
   "cell_type": "markdown",
   "metadata": {},
   "source": [
    "### Average age by name\n",
    "I download the data with [all names with frequency equal or higher to 20 people](https://www.ine.es/dyngs/INEbase/es/operacion.htm?c=Estadistica_C&cid=1254736177009&menu=resultados&idp=1254734710990#!tabs-1254736195454), shared by the Instituto Nacional de Estadistica."
   ]
  },
  {
   "cell_type": "code",
   "execution_count": 4,
   "metadata": {},
   "outputs": [],
   "source": [
    "# Open the file\n",
    "my_dic = {'Hombres':\"M\",\n",
    "          \"Mujeres\":\"F\"}\n",
    "\n",
    "aux = dict()\n",
    "for i, j in my_dic.items():\n",
    "    aux[i] = pd.read_excel(my_folder+'nombres_por_edad_media.xls', \n",
    "                  sheet_name=i,\n",
    "                  skiprows=6 ,\n",
    "                  names=['orden', 'name', 'number', 'average_age']\n",
    "                 ).drop(columns=['orden'])\n",
    "    aux[i]['sex'] = j"
   ]
  },
  {
   "cell_type": "code",
   "execution_count": 5,
   "metadata": {},
   "outputs": [],
   "source": [
    "# Concatenate male and female databases\n",
    "df = pd.concat([aux['Hombres'], aux['Mujeres']]).reset_index(drop=True)\n",
    "\n",
    "# Names in lowercase\n",
    "df.name = [str(n).lower() for n in df.name]\n",
    "\n",
    "# Wrangling data\n",
    "df.loc[30398 , 'name'] = 'na'"
   ]
  },
  {
   "cell_type": "code",
   "execution_count": 7,
   "metadata": {},
   "outputs": [],
   "source": [
    "# Save the data to CSV file\n",
    "df.to_csv('../data/names/names_spain_average_age.csv')"
   ]
  },
  {
   "cell_type": "code",
   "execution_count": 8,
   "metadata": {},
   "outputs": [
    {
     "data": {
      "text/html": [
       "<div>\n",
       "<style scoped>\n",
       "    .dataframe tbody tr th:only-of-type {\n",
       "        vertical-align: middle;\n",
       "    }\n",
       "\n",
       "    .dataframe tbody tr th {\n",
       "        vertical-align: top;\n",
       "    }\n",
       "\n",
       "    .dataframe thead th {\n",
       "        text-align: right;\n",
       "    }\n",
       "</style>\n",
       "<table border=\"1\" class=\"dataframe\">\n",
       "  <thead>\n",
       "    <tr style=\"text-align: right;\">\n",
       "      <th></th>\n",
       "      <th>name</th>\n",
       "      <th>number</th>\n",
       "      <th>average_age</th>\n",
       "      <th>sex</th>\n",
       "    </tr>\n",
       "  </thead>\n",
       "  <tbody>\n",
       "    <tr>\n",
       "      <th>0</th>\n",
       "      <td>antonio</td>\n",
       "      <td>666584</td>\n",
       "      <td>56.3</td>\n",
       "      <td>M</td>\n",
       "    </tr>\n",
       "    <tr>\n",
       "      <th>1</th>\n",
       "      <td>manuel</td>\n",
       "      <td>581915</td>\n",
       "      <td>55.2</td>\n",
       "      <td>M</td>\n",
       "    </tr>\n",
       "    <tr>\n",
       "      <th>2</th>\n",
       "      <td>jose</td>\n",
       "      <td>578937</td>\n",
       "      <td>61.5</td>\n",
       "      <td>M</td>\n",
       "    </tr>\n",
       "    <tr>\n",
       "      <th>3</th>\n",
       "      <td>francisco</td>\n",
       "      <td>488901</td>\n",
       "      <td>57.8</td>\n",
       "      <td>M</td>\n",
       "    </tr>\n",
       "    <tr>\n",
       "      <th>4</th>\n",
       "      <td>david</td>\n",
       "      <td>366782</td>\n",
       "      <td>31.2</td>\n",
       "      <td>M</td>\n",
       "    </tr>\n",
       "  </tbody>\n",
       "</table>\n",
       "</div>"
      ],
      "text/plain": [
       "        name  number  average_age sex\n",
       "0    antonio  666584         56.3   M\n",
       "1     manuel  581915         55.2   M\n",
       "2       jose  578937         61.5   M\n",
       "3  francisco  488901         57.8   M\n",
       "4      david  366782         31.2   M"
      ]
     },
     "execution_count": 8,
     "metadata": {},
     "output_type": "execute_result"
    }
   ],
   "source": [
    "df.head()"
   ]
  },
  {
   "cell_type": "markdown",
   "metadata": {},
   "source": [
    "## USA data\n",
    "### Most frequent names by year\n",
    "Names in [the US with frequency equal or higher to 5 observations per year](https://www.ssa.gov/oact/babynames/limits.html), by Social Security Administration."
   ]
  },
  {
   "cell_type": "code",
   "execution_count": 11,
   "metadata": {},
   "outputs": [],
   "source": [
    "# Parameters\n",
    "my_folder = \"../data/raw/USA/\"\n",
    "years = np.arange(1880, 2020)\n",
    "\n",
    "# Open the file\n",
    "df = pd.DataFrame()\n",
    "for y in years:\n",
    "    aux = pd.read_csv(my_folder + 'yob' + str(y) + '.txt', \n",
    "                     header=None).rename(columns={0:'name', 1:'sex', 2:\"number\"})\n",
    "    aux['year'] = y\n",
    "    df = pd.concat([df, aux]).reset_index(drop=True)\n",
    "\n",
    "# Names in lowercase\n",
    "df.name = [i.lower() for i in df.name]"
   ]
  },
  {
   "cell_type": "code",
   "execution_count": 12,
   "metadata": {},
   "outputs": [],
   "source": [
    "# Save the data to CSV file\n",
    "df.to_csv('../data/names/names_usa.csv')"
   ]
  },
  {
   "cell_type": "markdown",
   "metadata": {},
   "source": [
    "## Canada data\n",
    "### Most frequent names by year\n",
    "In the case of Canada, I only found information from [British Columbia's Most Popular Baby Names](https://www2.gov.bc.ca/gov/content/life-events/statistics-reports/bc-s-most-popular-baby-names), shared by the \n",
    "Government of British Columbia."
   ]
  },
  {
   "cell_type": "code",
   "execution_count": 14,
   "metadata": {},
   "outputs": [],
   "source": [
    "# Parameters\n",
    "my_folder = \"../data/raw/Canada/\"\n",
    "my_dic = {'boys':\"M\",\n",
    "          \"girls\":\"F\"}\n",
    "\n",
    "aux = dict()\n",
    "for i, j in my_dic.items():\n",
    "    aux[i] = pd.read_csv(my_folder + 'bc-popular-' + i + '-names.csv', encoding ='latin1')\n",
    "#     print(my_folder + 'bc-popular-' + i + '-names.csv')\n",
    "    aux[i] = pd.DataFrame(aux[i].set_index('Name').stack()).reset_index()\\\n",
    "                    .rename(columns={'Name':'name', 'level_1':'year', 0:'number'})\n",
    "    aux[i]['sex'] = j\n",
    "    \n",
    "# Concatenate male and female databases\n",
    "df = pd.concat([aux['boys'], aux['girls']]).reset_index(drop=True)\n",
    "\n",
    "# Names in lowercase\n",
    "df.name = [str(n).lower() for n in df.name]\n",
    "\n",
    "# Clean names\n",
    "df = df[~(df.year=='Total')]\n",
    "df.year = df.year.astype(int)"
   ]
  },
  {
   "cell_type": "code",
   "execution_count": 15,
   "metadata": {},
   "outputs": [],
   "source": [
    "# Save the data to CSV file\n",
    "df.to_csv('../data/names/names_canada.csv')"
   ]
  }
 ],
 "metadata": {
  "kernelspec": {
   "display_name": "Python 3",
   "language": "python",
   "name": "python3"
  },
  "language_info": {
   "codemirror_mode": {
    "name": "ipython",
    "version": 3
   },
   "file_extension": ".py",
   "mimetype": "text/x-python",
   "name": "python",
   "nbconvert_exporter": "python",
   "pygments_lexer": "ipython3",
   "version": "3.7.7"
  }
 },
 "nbformat": 4,
 "nbformat_minor": 4
}
