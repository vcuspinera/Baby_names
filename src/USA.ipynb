{
 "cells": [
  {
   "cell_type": "markdown",
   "metadata": {},
   "source": [
    "# USA"
   ]
  },
  {
   "cell_type": "markdown",
   "metadata": {},
   "source": [
    "## Libraries and data"
   ]
  },
  {
   "cell_type": "code",
   "execution_count": 1,
   "metadata": {},
   "outputs": [
    {
     "data": {
      "text/plain": [
       "RendererRegistry.enable('mimetype')"
      ]
     },
     "execution_count": 1,
     "metadata": {},
     "output_type": "execute_result"
    }
   ],
   "source": [
    "# General libraries\n",
    "import pandas as pd\n",
    "import numpy as np\n",
    "\n",
    "# To plot\n",
    "import altair as alt\n",
    "alt.renderers.enable('mimetype')"
   ]
  },
  {
   "cell_type": "code",
   "execution_count": 99,
   "metadata": {},
   "outputs": [],
   "source": [
    "# Parameters\n",
    "my_folder = \"../names/USA/\"\n",
    "# years = np.arange(2000, 2020)\n",
    "years = np.arange(1995, 2020)\n",
    "\n",
    "# Open the file\n",
    "df = pd.DataFrame()\n",
    "for y in years:\n",
    "    aux = pd.read_csv(my_folder + 'yob' + str(y) + '.txt', \n",
    "                     header=None).rename(columns={0:'Name', 1:'Gender', 2:\"Counts\"})\n",
    "    aux['Year'] = y\n",
    "    df = pd.concat([df, aux])"
   ]
  },
  {
   "cell_type": "code",
   "execution_count": 100,
   "metadata": {},
   "outputs": [],
   "source": [
    "# Group by most repeated Female names and order them\n",
    "df_2 = df.groupby(['Name', 'Gender'])[['Counts']].sum().reset_index()\n",
    "df_2 = df_2[df_2['Gender']=='F'].sort_values(by='Counts', ascending=False).reset_index()\n",
    "\n",
    "# merge original database with most repeated names\n",
    "df_3 = pd.merge(df_2['Name'].head(10), df, how=\"inner\", on=[\"Name\", \"Name\"])"
   ]
  },
  {
   "cell_type": "markdown",
   "metadata": {},
   "source": [
    "### Top 10 names in the USA, in last 20 years"
   ]
  },
  {
   "cell_type": "code",
   "execution_count": 101,
   "metadata": {},
   "outputs": [
    {
     "data": {
      "application/vnd.vegalite.v4+json": {
       "$schema": "https://vega.github.io/schema/vega-lite/v4.8.1.json",
       "config": {
        "view": {
         "continuousHeight": 300,
         "continuousWidth": 400
        }
       },
       "data": {
        "name": "data-401826da0d37fd0563cdae6c271ecb58"
       },
       "datasets": {
        "data-401826da0d37fd0563cdae6c271ecb58": [
         {
          "Counts": 24380,
          "Gender": "F",
          "Name": "Emily",
          "Year": 1995
         },
         {
          "Counts": 25151,
          "Gender": "F",
          "Name": "Emily",
          "Year": 1996
         },
         {
          "Counts": 25733,
          "Gender": "F",
          "Name": "Emily",
          "Year": 1997
         },
         {
          "Counts": 26183,
          "Gender": "F",
          "Name": "Emily",
          "Year": 1998
         },
         {
          "Counts": 26539,
          "Gender": "F",
          "Name": "Emily",
          "Year": 1999
         },
         {
          "Counts": 25957,
          "Gender": "F",
          "Name": "Emily",
          "Year": 2000
         },
         {
          "Counts": 25057,
          "Gender": "F",
          "Name": "Emily",
          "Year": 2001
         },
         {
          "Counts": 24466,
          "Gender": "F",
          "Name": "Emily",
          "Year": 2002
         },
         {
          "Counts": 25691,
          "Gender": "F",
          "Name": "Emily",
          "Year": 2003
         },
         {
          "Counts": 25039,
          "Gender": "F",
          "Name": "Emily",
          "Year": 2004
         },
         {
          "Counts": 23942,
          "Gender": "F",
          "Name": "Emily",
          "Year": 2005
         },
         {
          "Counts": 21408,
          "Gender": "F",
          "Name": "Emily",
          "Year": 2006
         },
         {
          "Counts": 19358,
          "Gender": "F",
          "Name": "Emily",
          "Year": 2007
         },
         {
          "Counts": 17436,
          "Gender": "F",
          "Name": "Emily",
          "Year": 2008
         },
         {
          "Counts": 15355,
          "Gender": "F",
          "Name": "Emily",
          "Year": 2009
         },
         {
          "Counts": 14276,
          "Gender": "F",
          "Name": "Emily",
          "Year": 2010
         },
         {
          "Counts": 14264,
          "Gender": "F",
          "Name": "Emily",
          "Year": 2011
         },
         {
          "Counts": 13657,
          "Gender": "F",
          "Name": "Emily",
          "Year": 2012
         },
         {
          "Counts": 13130,
          "Gender": "F",
          "Name": "Emily",
          "Year": 2013
         },
         {
          "Counts": 12650,
          "Gender": "F",
          "Name": "Emily",
          "Year": 2014
         },
         {
          "Counts": 11792,
          "Gender": "F",
          "Name": "Emily",
          "Year": 2015
         },
         {
          "Counts": 10988,
          "Gender": "F",
          "Name": "Emily",
          "Year": 2016
         },
         {
          "Counts": 9791,
          "Gender": "F",
          "Name": "Emily",
          "Year": 2017
         },
         {
          "Counts": 8689,
          "Gender": "F",
          "Name": "Emily",
          "Year": 2018
         },
         {
          "Counts": 8213,
          "Gender": "F",
          "Name": "Emily",
          "Year": 2019
         },
         {
          "Counts": 5046,
          "Gender": "F",
          "Name": "Emma",
          "Year": 1995
         },
         {
          "Counts": 6144,
          "Gender": "F",
          "Name": "Emma",
          "Year": 1996
         },
         {
          "Counts": 7745,
          "Gender": "F",
          "Name": "Emma",
          "Year": 1997
         },
         {
          "Counts": 10443,
          "Gender": "F",
          "Name": "Emma",
          "Year": 1998
         },
         {
          "Counts": 11738,
          "Gender": "F",
          "Name": "Emma",
          "Year": 1999
         },
         {
          "Counts": 12555,
          "Gender": "F",
          "Name": "Emma",
          "Year": 2000
         },
         {
          "Counts": 13312,
          "Gender": "F",
          "Name": "Emma",
          "Year": 2001
         },
         {
          "Counts": 16544,
          "Gender": "F",
          "Name": "Emma",
          "Year": 2002
         },
         {
          "Counts": 22708,
          "Gender": "F",
          "Name": "Emma",
          "Year": 2003
         },
         {
          "Counts": 21610,
          "Gender": "F",
          "Name": "Emma",
          "Year": 2004
         },
         {
          "Counts": 20348,
          "Gender": "F",
          "Name": "Emma",
          "Year": 2005
         },
         {
          "Counts": 19120,
          "Gender": "F",
          "Name": "Emma",
          "Year": 2006
         },
         {
          "Counts": 18376,
          "Gender": "F",
          "Name": "Emma",
          "Year": 2007
         },
         {
          "Counts": 18817,
          "Gender": "F",
          "Name": "Emma",
          "Year": 2008
         },
         {
          "Counts": 17900,
          "Gender": "F",
          "Name": "Emma",
          "Year": 2009
         },
         {
          "Counts": 17348,
          "Gender": "F",
          "Name": "Emma",
          "Year": 2010
         },
         {
          "Counts": 18807,
          "Gender": "F",
          "Name": "Emma",
          "Year": 2011
         },
         {
          "Counts": 20952,
          "Gender": "F",
          "Name": "Emma",
          "Year": 2012
         },
         {
          "Counts": 20950,
          "Gender": "F",
          "Name": "Emma",
          "Year": 2013
         },
         {
          "Counts": 20941,
          "Gender": "F",
          "Name": "Emma",
          "Year": 2014
         },
         {
          "Counts": 20463,
          "Gender": "F",
          "Name": "Emma",
          "Year": 2015
         },
         {
          "Counts": 19517,
          "Gender": "F",
          "Name": "Emma",
          "Year": 2016
         },
         {
          "Counts": 19830,
          "Gender": "F",
          "Name": "Emma",
          "Year": 2017
         },
         {
          "Counts": 18757,
          "Gender": "F",
          "Name": "Emma",
          "Year": 2018
         },
         {
          "Counts": 17102,
          "Gender": "F",
          "Name": "Emma",
          "Year": 2019
         },
         {
          "Counts": 7624,
          "Gender": "F",
          "Name": "Olivia",
          "Year": 1995
         },
         {
          "Counts": 8123,
          "Gender": "F",
          "Name": "Olivia",
          "Year": 1996
         },
         {
          "Counts": 9477,
          "Gender": "F",
          "Name": "Olivia",
          "Year": 1997
         },
         {
          "Counts": 10610,
          "Gender": "F",
          "Name": "Olivia",
          "Year": 1998
         },
         {
          "Counts": 11255,
          "Gender": "F",
          "Name": "Olivia",
          "Year": 1999
         },
         {
          "Counts": 12852,
          "Gender": "F",
          "Name": "Olivia",
          "Year": 2000
         },
         {
          "Counts": 13977,
          "Gender": "F",
          "Name": "Olivia",
          "Year": 2001
         },
         {
          "Counts": 14630,
          "Gender": "F",
          "Name": "Olivia",
          "Year": 2002
         },
         {
          "Counts": 16152,
          "Gender": "F",
          "Name": "Olivia",
          "Year": 2003
         },
         {
          "Counts": 16105,
          "Gender": "F",
          "Name": "Olivia",
          "Year": 2004
         },
         {
          "Counts": 15694,
          "Gender": "F",
          "Name": "Olivia",
          "Year": 2005
         },
         {
          "Counts": 15501,
          "Gender": "F",
          "Name": "Olivia",
          "Year": 2006
         },
         {
          "Counts": 16584,
          "Gender": "F",
          "Name": "Olivia",
          "Year": 2007
         },
         {
          "Counts": 17084,
          "Gender": "F",
          "Name": "Olivia",
          "Year": 2008
         },
         {
          "Counts": 17437,
          "Gender": "F",
          "Name": "Olivia",
          "Year": 2009
         },
         {
          "Counts": 17029,
          "Gender": "F",
          "Name": "Olivia",
          "Year": 2010
         },
         {
          "Counts": 17327,
          "Gender": "F",
          "Name": "Olivia",
          "Year": 2011
         },
         {
          "Counts": 17319,
          "Gender": "F",
          "Name": "Olivia",
          "Year": 2012
         },
         {
          "Counts": 18436,
          "Gender": "F",
          "Name": "Olivia",
          "Year": 2013
         },
         {
          "Counts": 19817,
          "Gender": "F",
          "Name": "Olivia",
          "Year": 2014
         },
         {
          "Counts": 19705,
          "Gender": "F",
          "Name": "Olivia",
          "Year": 2015
         },
         {
          "Counts": 19378,
          "Gender": "F",
          "Name": "Olivia",
          "Year": 2016
         },
         {
          "Counts": 18737,
          "Gender": "F",
          "Name": "Olivia",
          "Year": 2017
         },
         {
          "Counts": 17993,
          "Gender": "F",
          "Name": "Olivia",
          "Year": 2018
         },
         {
          "Counts": 18451,
          "Gender": "F",
          "Name": "Olivia",
          "Year": 2019
         },
         {
          "Counts": 9774,
          "Gender": "F",
          "Name": "Madison",
          "Year": 1995
         },
         {
          "Counts": 13410,
          "Gender": "F",
          "Name": "Madison",
          "Year": 1996
         },
         {
          "Counts": 15188,
          "Gender": "F",
          "Name": "Madison",
          "Year": 1997
         },
         {
          "Counts": 17787,
          "Gender": "F",
          "Name": "Madison",
          "Year": 1998
         },
         {
          "Counts": 18054,
          "Gender": "F",
          "Name": "Madison",
          "Year": 1999
         },
         {
          "Counts": 19968,
          "Gender": "F",
          "Name": "Madison",
          "Year": 2000
         },
         {
          "Counts": 22166,
          "Gender": "F",
          "Name": "Madison",
          "Year": 2001
         },
         {
          "Counts": 21773,
          "Gender": "F",
          "Name": "Madison",
          "Year": 2002
         },
         {
          "Counts": 20199,
          "Gender": "F",
          "Name": "Madison",
          "Year": 2003
         },
         {
          "Counts": 20625,
          "Gender": "F",
          "Name": "Madison",
          "Year": 2004
         },
         {
          "Counts": 19570,
          "Gender": "F",
          "Name": "Madison",
          "Year": 2005
         },
         {
          "Counts": 18628,
          "Gender": "F",
          "Name": "Madison",
          "Year": 2006
         },
         {
          "Counts": 17962,
          "Gender": "F",
          "Name": "Madison",
          "Year": 2007
         },
         {
          "Counts": 17034,
          "Gender": "F",
          "Name": "Madison",
          "Year": 2008
         },
         {
          "Counts": 15243,
          "Gender": "F",
          "Name": "Madison",
          "Year": 2009
         },
         {
          "Counts": 13188,
          "Gender": "F",
          "Name": "Madison",
          "Year": 2010
         },
         {
          "Counts": 12394,
          "Gender": "F",
          "Name": "Madison",
          "Year": 2011
         },
         {
          "Counts": 11404,
          "Gender": "F",
          "Name": "Madison",
          "Year": 2012
         },
         {
          "Counts": 10600,
          "Gender": "F",
          "Name": "Madison",
          "Year": 2013
         },
         {
          "Counts": 10323,
          "Gender": "F",
          "Name": "Madison",
          "Year": 2014
         },
         {
          "Counts": 10092,
          "Gender": "F",
          "Name": "Madison",
          "Year": 2015
         },
         {
          "Counts": 9037,
          "Gender": "F",
          "Name": "Madison",
          "Year": 2016
         },
         {
          "Counts": 7888,
          "Gender": "F",
          "Name": "Madison",
          "Year": 2017
         },
         {
          "Counts": 7063,
          "Gender": "F",
          "Name": "Madison",
          "Year": 2018
         },
         {
          "Counts": 6269,
          "Gender": "F",
          "Name": "Madison",
          "Year": 2019
         },
         {
          "Counts": 1738,
          "Gender": "F",
          "Name": "Isabella",
          "Year": 1995
         },
         {
          "Counts": 2110,
          "Gender": "F",
          "Name": "Isabella",
          "Year": 1996
         },
         {
          "Counts": 2862,
          "Gender": "F",
          "Name": "Isabella",
          "Year": 1997
         },
         {
          "Counts": 3849,
          "Gender": "F",
          "Name": "Isabella",
          "Year": 1998
         },
         {
          "Counts": 5059,
          "Gender": "F",
          "Name": "Isabella",
          "Year": 1999
         },
         {
          "Counts": 6242,
          "Gender": "F",
          "Name": "Isabella",
          "Year": 2000
         },
         {
          "Counts": 8834,
          "Gender": "F",
          "Name": "Isabella",
          "Year": 2001
         },
         {
          "Counts": 12168,
          "Gender": "F",
          "Name": "Isabella",
          "Year": 2002
         },
         {
          "Counts": 13779,
          "Gender": "F",
          "Name": "Isabella",
          "Year": 2003
         },
         {
          "Counts": 15019,
          "Gender": "F",
          "Name": "Isabella",
          "Year": 2004
         },
         {
          "Counts": 15190,
          "Gender": "F",
          "Name": "Isabella",
          "Year": 2005
         },
         {
          "Counts": 18226,
          "Gender": "F",
          "Name": "Isabella",
          "Year": 2006
         },
         {
          "Counts": 19140,
          "Gender": "F",
          "Name": "Isabella",
          "Year": 2007
         },
         {
          "Counts": 18619,
          "Gender": "F",
          "Name": "Isabella",
          "Year": 2008
         },
         {
          "Counts": 22311,
          "Gender": "F",
          "Name": "Isabella",
          "Year": 2009
         },
         {
          "Counts": 22921,
          "Gender": "F",
          "Name": "Isabella",
          "Year": 2010
         },
         {
          "Counts": 19918,
          "Gender": "F",
          "Name": "Isabella",
          "Year": 2011
         },
         {
          "Counts": 19110,
          "Gender": "F",
          "Name": "Isabella",
          "Year": 2012
         },
         {
          "Counts": 17651,
          "Gender": "F",
          "Name": "Isabella",
          "Year": 2013
         },
         {
          "Counts": 17102,
          "Gender": "F",
          "Name": "Isabella",
          "Year": 2014
         },
         {
          "Counts": 15633,
          "Gender": "F",
          "Name": "Isabella",
          "Year": 2015
         },
         {
          "Counts": 14822,
          "Gender": "F",
          "Name": "Isabella",
          "Year": 2016
         },
         {
          "Counts": 15205,
          "Gender": "F",
          "Name": "Isabella",
          "Year": 2017
         },
         {
          "Counts": 14517,
          "Gender": "F",
          "Name": "Isabella",
          "Year": 2018
         },
         {
          "Counts": 13306,
          "Gender": "F",
          "Name": "Isabella",
          "Year": 2019
         },
         {
          "Counts": 17015,
          "Gender": "F",
          "Name": "Hannah",
          "Year": 1995
         },
         {
          "Counts": 18596,
          "Gender": "F",
          "Name": "Hannah",
          "Year": 1996
         },
         {
          "Counts": 20594,
          "Gender": "F",
          "Name": "Hannah",
          "Year": 1997
         },
         {
          "Counts": 21372,
          "Gender": "F",
          "Name": "Hannah",
          "Year": 1998
         },
         {
          "Counts": 21677,
          "Gender": "F",
          "Name": "Hannah",
          "Year": 1999
         },
         {
          "Counts": 23083,
          "Gender": "F",
          "Name": "Hannah",
          "Year": 2000
         },
         {
          "Counts": 20717,
          "Gender": "F",
          "Name": "Hannah",
          "Year": 2001
         },
         {
          "Counts": 18823,
          "Gender": "F",
          "Name": "Hannah",
          "Year": 2002
         },
         {
          "Counts": 17637,
          "Gender": "F",
          "Name": "Hannah",
          "Year": 2003
         },
         {
          "Counts": 15607,
          "Gender": "F",
          "Name": "Hannah",
          "Year": 2004
         },
         {
          "Counts": 14847,
          "Gender": "F",
          "Name": "Hannah",
          "Year": 2005
         },
         {
          "Counts": 14547,
          "Gender": "F",
          "Name": "Hannah",
          "Year": 2006
         },
         {
          "Counts": 13314,
          "Gender": "F",
          "Name": "Hannah",
          "Year": 2007
         },
         {
          "Counts": 9566,
          "Gender": "F",
          "Name": "Hannah",
          "Year": 2008
         },
         {
          "Counts": 7574,
          "Gender": "F",
          "Name": "Hannah",
          "Year": 2009
         },
         {
          "Counts": 6993,
          "Gender": "F",
          "Name": "Hannah",
          "Year": 2010
         },
         {
          "Counts": 6575,
          "Gender": "F",
          "Name": "Hannah",
          "Year": 2011
         },
         {
          "Counts": 7278,
          "Gender": "F",
          "Name": "Hannah",
          "Year": 2012
         },
         {
          "Counts": 7300,
          "Gender": "F",
          "Name": "Hannah",
          "Year": 2013
         },
         {
          "Counts": 6585,
          "Gender": "F",
          "Name": "Hannah",
          "Year": 2014
         },
         {
          "Counts": 6421,
          "Gender": "F",
          "Name": "Hannah",
          "Year": 2015
         },
         {
          "Counts": 6021,
          "Gender": "F",
          "Name": "Hannah",
          "Year": 2016
         },
         {
          "Counts": 5915,
          "Gender": "F",
          "Name": "Hannah",
          "Year": 2017
         },
         {
          "Counts": 5653,
          "Gender": "F",
          "Name": "Hannah",
          "Year": 2018
         },
         {
          "Counts": 5586,
          "Gender": "F",
          "Name": "Hannah",
          "Year": 2019
         },
         {
          "Counts": 7822,
          "Gender": "F",
          "Name": "Abigail",
          "Year": 1995
         },
         {
          "Counts": 8604,
          "Gender": "F",
          "Name": "Abigail",
          "Year": 1996
         },
         {
          "Counts": 9628,
          "Gender": "F",
          "Name": "Abigail",
          "Year": 1997
         },
         {
          "Counts": 11098,
          "Gender": "F",
          "Name": "Abigail",
          "Year": 1998
         },
         {
          "Counts": 11683,
          "Gender": "F",
          "Name": "Abigail",
          "Year": 1999
         },
         {
          "Counts": 13090,
          "Gender": "F",
          "Name": "Abigail",
          "Year": 2000
         },
         {
          "Counts": 14807,
          "Gender": "F",
          "Name": "Abigail",
          "Year": 2001
         },
         {
          "Counts": 15299,
          "Gender": "F",
          "Name": "Abigail",
          "Year": 2002
         },
         {
          "Counts": 15931,
          "Gender": "F",
          "Name": "Abigail",
          "Year": 2003
         },
         {
          "Counts": 15427,
          "Gender": "F",
          "Name": "Abigail",
          "Year": 2004
         },
         {
          "Counts": 15750,
          "Gender": "F",
          "Name": "Abigail",
          "Year": 2005
         },
         {
          "Counts": 15629,
          "Gender": "F",
          "Name": "Abigail",
          "Year": 2006
         },
         {
          "Counts": 15473,
          "Gender": "F",
          "Name": "Abigail",
          "Year": 2007
         },
         {
          "Counts": 15082,
          "Gender": "F",
          "Name": "Abigail",
          "Year": 2008
         },
         {
          "Counts": 14390,
          "Gender": "F",
          "Name": "Abigail",
          "Year": 2009
         },
         {
          "Counts": 14248,
          "Gender": "F",
          "Name": "Abigail",
          "Year": 2010
         },
         {
          "Counts": 13252,
          "Gender": "F",
          "Name": "Abigail",
          "Year": 2011
         },
         {
          "Counts": 12708,
          "Gender": "F",
          "Name": "Abigail",
          "Year": 2012
         },
         {
          "Counts": 12411,
          "Gender": "F",
          "Name": "Abigail",
          "Year": 2013
         },
         {
          "Counts": 12093,
          "Gender": "F",
          "Name": "Abigail",
          "Year": 2014
         },
         {
          "Counts": 12413,
          "Gender": "F",
          "Name": "Abigail",
          "Year": 2015
         },
         {
          "Counts": 11775,
          "Gender": "F",
          "Name": "Abigail",
          "Year": 2016
         },
         {
          "Counts": 10621,
          "Gender": "F",
          "Name": "Abigail",
          "Year": 2017
         },
         {
          "Counts": 9848,
          "Gender": "F",
          "Name": "Abigail",
          "Year": 2018
         },
         {
          "Counts": 9106,
          "Gender": "F",
          "Name": "Abigail",
          "Year": 2019
         },
         {
          "Counts": 1763,
          "Gender": "F",
          "Name": "Sophia",
          "Year": 1995
         },
         {
          "Counts": 2513,
          "Gender": "F",
          "Name": "Sophia",
          "Year": 1996
         },
         {
          "Counts": 3640,
          "Gender": "F",
          "Name": "Sophia",
          "Year": 1997
         },
         {
          "Counts": 4306,
          "Gender": "F",
          "Name": "Sophia",
          "Year": 1998
         },
         {
          "Counts": 5423,
          "Gender": "F",
          "Name": "Sophia",
          "Year": 1999
         },
         {
          "Counts": 6564,
          "Gender": "F",
          "Name": "Sophia",
          "Year": 2000
         },
         {
          "Counts": 7162,
          "Gender": "F",
          "Name": "Sophia",
          "Year": 2001
         },
         {
          "Counts": 8665,
          "Gender": "F",
          "Name": "Sophia",
          "Year": 2002
         },
         {
          "Counts": 9685,
          "Gender": "F",
          "Name": "Sophia",
          "Year": 2003
         },
         {
          "Counts": 10917,
          "Gender": "F",
          "Name": "Sophia",
          "Year": 2004
         },
         {
          "Counts": 12673,
          "Gender": "F",
          "Name": "Sophia",
          "Year": 2005
         },
         {
          "Counts": 13502,
          "Gender": "F",
          "Name": "Sophia",
          "Year": 2006
         },
         {
          "Counts": 17025,
          "Gender": "F",
          "Name": "Sophia",
          "Year": 2007
         },
         {
          "Counts": 16085,
          "Gender": "F",
          "Name": "Sophia",
          "Year": 2008
         },
         {
          "Counts": 16948,
          "Gender": "F",
          "Name": "Sophia",
          "Year": 2009
         },
         {
          "Counts": 20646,
          "Gender": "F",
          "Name": "Sophia",
          "Year": 2010
         },
         {
          "Counts": 21848,
          "Gender": "F",
          "Name": "Sophia",
          "Year": 2011
         },
         {
          "Counts": 22320,
          "Gender": "F",
          "Name": "Sophia",
          "Year": 2012
         },
         {
          "Counts": 21231,
          "Gender": "F",
          "Name": "Sophia",
          "Year": 2013
         },
         {
          "Counts": 18628,
          "Gender": "F",
          "Name": "Sophia",
          "Year": 2014
         },
         {
          "Counts": 17430,
          "Gender": "F",
          "Name": "Sophia",
          "Year": 2015
         },
         {
          "Counts": 16144,
          "Gender": "F",
          "Name": "Sophia",
          "Year": 2016
         },
         {
          "Counts": 14899,
          "Gender": "F",
          "Name": "Sophia",
          "Year": 2017
         },
         {
          "Counts": 13972,
          "Gender": "F",
          "Name": "Sophia",
          "Year": 2018
         },
         {
          "Counts": 13714,
          "Gender": "F",
          "Name": "Sophia",
          "Year": 2019
         },
         {
          "Counts": 16188,
          "Gender": "F",
          "Name": "Elizabeth",
          "Year": 1995
         },
         {
          "Counts": 16000,
          "Gender": "F",
          "Name": "Elizabeth",
          "Year": 1996
         },
         {
          "Counts": 15425,
          "Gender": "F",
          "Name": "Elizabeth",
          "Year": 1997
         },
         {
          "Counts": 15190,
          "Gender": "F",
          "Name": "Elizabeth",
          "Year": 1998
         },
         {
          "Counts": 15348,
          "Gender": "F",
          "Name": "Elizabeth",
          "Year": 1999
         },
         {
          "Counts": 15105,
          "Gender": "F",
          "Name": "Elizabeth",
          "Year": 2000
         },
         {
          "Counts": 14788,
          "Gender": "F",
          "Name": "Elizabeth",
          "Year": 2001
         },
         {
          "Counts": 14608,
          "Gender": "F",
          "Name": "Elizabeth",
          "Year": 2002
         },
         {
          "Counts": 14108,
          "Gender": "F",
          "Name": "Elizabeth",
          "Year": 2003
         },
         {
          "Counts": 13561,
          "Gender": "F",
          "Name": "Elizabeth",
          "Year": 2004
         },
         {
          "Counts": 12732,
          "Gender": "F",
          "Name": "Elizabeth",
          "Year": 2005
         },
         {
          "Counts": 12431,
          "Gender": "F",
          "Name": "Elizabeth",
          "Year": 2006
         },
         {
          "Counts": 13057,
          "Gender": "F",
          "Name": "Elizabeth",
          "Year": 2007
         },
         {
          "Counts": 12012,
          "Gender": "F",
          "Name": "Elizabeth",
          "Year": 2008
         },
         {
          "Counts": 11039,
          "Gender": "F",
          "Name": "Elizabeth",
          "Year": 2009
         },
         {
          "Counts": 10263,
          "Gender": "F",
          "Name": "Elizabeth",
          "Year": 2010
         },
         {
          "Counts": 10095,
          "Gender": "F",
          "Name": "Elizabeth",
          "Year": 2011
         },
         {
          "Counts": 9714,
          "Gender": "F",
          "Name": "Elizabeth",
          "Year": 2012
         },
         {
          "Counts": 9457,
          "Gender": "F",
          "Name": "Elizabeth",
          "Year": 2013
         },
         {
          "Counts": 9571,
          "Gender": "F",
          "Name": "Elizabeth",
          "Year": 2014
         },
         {
          "Counts": 9743,
          "Gender": "F",
          "Name": "Elizabeth",
          "Year": 2015
         },
         {
          "Counts": 9565,
          "Gender": "F",
          "Name": "Elizabeth",
          "Year": 2016
         },
         {
          "Counts": 8975,
          "Gender": "F",
          "Name": "Elizabeth",
          "Year": 2017
         },
         {
          "Counts": 8560,
          "Gender": "F",
          "Name": "Elizabeth",
          "Year": 2018
         },
         {
          "Counts": 7844,
          "Gender": "F",
          "Name": "Elizabeth",
          "Year": 2019
         },
         {
          "Counts": 21643,
          "Gender": "F",
          "Name": "Samantha",
          "Year": 1995
         },
         {
          "Counts": 20549,
          "Gender": "F",
          "Name": "Samantha",
          "Year": 1996
         },
         {
          "Counts": 20169,
          "Gender": "F",
          "Name": "Samantha",
          "Year": 1997
         },
         {
          "Counts": 20193,
          "Gender": "F",
          "Name": "Samantha",
          "Year": 1998
         },
         {
          "Counts": 19039,
          "Gender": "F",
          "Name": "Samantha",
          "Year": 1999
         },
         {
          "Counts": 17265,
          "Gender": "F",
          "Name": "Samantha",
          "Year": 2000
         },
         {
          "Counts": 15865,
          "Gender": "F",
          "Name": "Samantha",
          "Year": 2001
         },
         {
          "Counts": 14669,
          "Gender": "F",
          "Name": "Samantha",
          "Year": 2002
         },
         {
          "Counts": 13867,
          "Gender": "F",
          "Name": "Samantha",
          "Year": 2003
         },
         {
          "Counts": 13783,
          "Gender": "F",
          "Name": "Samantha",
          "Year": 2004
         },
         {
          "Counts": 13638,
          "Gender": "F",
          "Name": "Samantha",
          "Year": 2005
         },
         {
          "Counts": 12464,
          "Gender": "F",
          "Name": "Samantha",
          "Year": 2006
         },
         {
          "Counts": 11881,
          "Gender": "F",
          "Name": "Samantha",
          "Year": 2007
         },
         {
          "Counts": 11184,
          "Gender": "F",
          "Name": "Samantha",
          "Year": 2008
         },
         {
          "Counts": 9662,
          "Gender": "F",
          "Name": "Samantha",
          "Year": 2009
         },
         {
          "Counts": 8408,
          "Gender": "F",
          "Name": "Samantha",
          "Year": 2010
         },
         {
          "Counts": 7396,
          "Gender": "F",
          "Name": "Samantha",
          "Year": 2011
         },
         {
          "Counts": 6932,
          "Gender": "F",
          "Name": "Samantha",
          "Year": 2012
         },
         {
          "Counts": 6509,
          "Gender": "F",
          "Name": "Samantha",
          "Year": 2013
         },
         {
          "Counts": 5730,
          "Gender": "F",
          "Name": "Samantha",
          "Year": 2014
         },
         {
          "Counts": 5343,
          "Gender": "F",
          "Name": "Samantha",
          "Year": 2015
         },
         {
          "Counts": 4953,
          "Gender": "F",
          "Name": "Samantha",
          "Year": 2016
         },
         {
          "Counts": 4322,
          "Gender": "F",
          "Name": "Samantha",
          "Year": 2017
         },
         {
          "Counts": 3910,
          "Gender": "F",
          "Name": "Samantha",
          "Year": 2018
         },
         {
          "Counts": 3351,
          "Gender": "F",
          "Name": "Samantha",
          "Year": 2019
         }
        ]
       },
       "encoding": {
        "color": {
         "field": "Name",
         "type": "nominal"
        },
        "tooltip": [
         {
          "field": "Name",
          "type": "nominal"
         },
         {
          "field": "Year",
          "type": "quantitative"
         },
         {
          "field": "Counts",
          "type": "quantitative"
         }
        ],
        "x": {
         "field": "Year",
         "type": "ordinal"
        },
        "y": {
         "field": "Counts",
         "type": "quantitative"
        }
       },
       "mark": "line"
      },
      "image/png": "[encoded data removed]",
      "text/plain": [
       "<VegaLite 4 object>\n",
       "\n",
       "If you see this message, it means the renderer has not been properly enabled\n",
       "for the frontend that you are using. For more information, see\n",
       "https://altair-viz.github.io/user_guide/troubleshooting.html\n"
      ]
     },
     "execution_count": 101,
     "metadata": {},
     "output_type": "execute_result"
    }
   ],
   "source": [
    "alt.Chart(df_3[df_3.Gender==\"F\"]).mark_line().encode(\n",
    "    alt.X(\"Year:O\"),\n",
    "    alt.Y(\"Counts\"),\n",
    "    alt.Color(\"Name\"),\n",
    "    tooltip = ['Name', 'Year', 'Counts']\n",
    ")"
   ]
  },
  {
   "cell_type": "markdown",
   "metadata": {},
   "source": [
    "### Our selected names"
   ]
  },
  {
   "cell_type": "code",
   "execution_count": 102,
   "metadata": {},
   "outputs": [
    {
     "data": {
      "text/html": [
       "<div>\n",
       "<style scoped>\n",
       "    .dataframe tbody tr th:only-of-type {\n",
       "        vertical-align: middle;\n",
       "    }\n",
       "\n",
       "    .dataframe tbody tr th {\n",
       "        vertical-align: top;\n",
       "    }\n",
       "\n",
       "    .dataframe thead th {\n",
       "        text-align: right;\n",
       "    }\n",
       "</style>\n",
       "<table border=\"1\" class=\"dataframe\">\n",
       "  <thead>\n",
       "    <tr style=\"text-align: right;\">\n",
       "      <th></th>\n",
       "      <th>0</th>\n",
       "    </tr>\n",
       "  </thead>\n",
       "  <tbody>\n",
       "    <tr>\n",
       "      <th>0</th>\n",
       "      <td>Macarena</td>\n",
       "    </tr>\n",
       "    <tr>\n",
       "      <th>1</th>\n",
       "      <td>Elisa</td>\n",
       "    </tr>\n",
       "    <tr>\n",
       "      <th>2</th>\n",
       "      <td>Victoria</td>\n",
       "    </tr>\n",
       "    <tr>\n",
       "      <th>3</th>\n",
       "      <td>Gina</td>\n",
       "    </tr>\n",
       "    <tr>\n",
       "      <th>4</th>\n",
       "      <td>Aisha</td>\n",
       "    </tr>\n",
       "    <tr>\n",
       "      <th>5</th>\n",
       "      <td>Carlina</td>\n",
       "    </tr>\n",
       "  </tbody>\n",
       "</table>\n",
       "</div>"
      ],
      "text/plain": [
       "          0\n",
       "0  Macarena\n",
       "1     Elisa\n",
       "2  Victoria\n",
       "3      Gina\n",
       "4     Aisha\n",
       "5   Carlina"
      ]
     },
     "execution_count": 102,
     "metadata": {},
     "output_type": "execute_result"
    }
   ],
   "source": [
    "names = ['Macarena', 'Elisa', 'Victoria', 'Gina', 'Aisha', 'Carlina']\n",
    "pd.DataFrame(names)"
   ]
  },
  {
   "cell_type": "code",
   "execution_count": 103,
   "metadata": {},
   "outputs": [],
   "source": [
    "# merge original database with most repeated names\n",
    "df_3 = pd.merge(pd.DataFrame(names).rename(columns={0:\"Name\"}), df, how=\"inner\", on=[\"Name\", \"Name\"])"
   ]
  },
  {
   "cell_type": "code",
   "execution_count": 104,
   "metadata": {},
   "outputs": [
    {
     "data": {
      "application/vnd.vegalite.v4+json": {
       "$schema": "https://vega.github.io/schema/vega-lite/v4.8.1.json",
       "config": {
        "view": {
         "continuousHeight": 300,
         "continuousWidth": 400
        }
       },
       "data": {
        "name": "data-bf0ed8b367b0ed35dcaf6ac123b26cce"
       },
       "datasets": {
        "data-bf0ed8b367b0ed35dcaf6ac123b26cce": [
         {
          "Counts": 18,
          "Gender": "F",
          "Name": "Macarena",
          "Year": 1995
         },
         {
          "Counts": 6,
          "Gender": "F",
          "Name": "Macarena",
          "Year": 1996
         },
         {
          "Counts": 5,
          "Gender": "F",
          "Name": "Macarena",
          "Year": 1997
         },
         {
          "Counts": 10,
          "Gender": "F",
          "Name": "Macarena",
          "Year": 2001
         },
         {
          "Counts": 12,
          "Gender": "F",
          "Name": "Macarena",
          "Year": 2002
         },
         {
          "Counts": 6,
          "Gender": "F",
          "Name": "Macarena",
          "Year": 2003
         },
         {
          "Counts": 7,
          "Gender": "F",
          "Name": "Macarena",
          "Year": 2004
         },
         {
          "Counts": 10,
          "Gender": "F",
          "Name": "Macarena",
          "Year": 2006
         },
         {
          "Counts": 6,
          "Gender": "F",
          "Name": "Macarena",
          "Year": 2007
         },
         {
          "Counts": 5,
          "Gender": "F",
          "Name": "Macarena",
          "Year": 2009
         },
         {
          "Counts": 8,
          "Gender": "F",
          "Name": "Macarena",
          "Year": 2015
         },
         {
          "Counts": 7,
          "Gender": "F",
          "Name": "Macarena",
          "Year": 2018
         },
         {
          "Counts": 17,
          "Gender": "F",
          "Name": "Macarena",
          "Year": 2019
         },
         {
          "Counts": 546,
          "Gender": "F",
          "Name": "Elisa",
          "Year": 1995
         },
         {
          "Counts": 576,
          "Gender": "F",
          "Name": "Elisa",
          "Year": 1996
         },
         {
          "Counts": 562,
          "Gender": "F",
          "Name": "Elisa",
          "Year": 1997
         },
         {
          "Counts": 547,
          "Gender": "F",
          "Name": "Elisa",
          "Year": 1998
         },
         {
          "Counts": 497,
          "Gender": "F",
          "Name": "Elisa",
          "Year": 1999
         },
         {
          "Counts": 509,
          "Gender": "F",
          "Name": "Elisa",
          "Year": 2000
         },
         {
          "Counts": 557,
          "Gender": "F",
          "Name": "Elisa",
          "Year": 2001
         },
         {
          "Counts": 559,
          "Gender": "F",
          "Name": "Elisa",
          "Year": 2002
         },
         {
          "Counts": 551,
          "Gender": "F",
          "Name": "Elisa",
          "Year": 2003
         },
         {
          "Counts": 593,
          "Gender": "F",
          "Name": "Elisa",
          "Year": 2004
         },
         {
          "Counts": 541,
          "Gender": "F",
          "Name": "Elisa",
          "Year": 2005
         },
         {
          "Counts": 542,
          "Gender": "F",
          "Name": "Elisa",
          "Year": 2006
         },
         {
          "Counts": 554,
          "Gender": "F",
          "Name": "Elisa",
          "Year": 2007
         },
         {
          "Counts": 492,
          "Gender": "F",
          "Name": "Elisa",
          "Year": 2008
         },
         {
          "Counts": 472,
          "Gender": "F",
          "Name": "Elisa",
          "Year": 2009
         },
         {
          "Counts": 602,
          "Gender": "F",
          "Name": "Elisa",
          "Year": 2010
         },
         {
          "Counts": 543,
          "Gender": "F",
          "Name": "Elisa",
          "Year": 2011
         },
         {
          "Counts": 848,
          "Gender": "F",
          "Name": "Elisa",
          "Year": 2012
         },
         {
          "Counts": 657,
          "Gender": "F",
          "Name": "Elisa",
          "Year": 2013
         },
         {
          "Counts": 619,
          "Gender": "F",
          "Name": "Elisa",
          "Year": 2014
         },
         {
          "Counts": 656,
          "Gender": "F",
          "Name": "Elisa",
          "Year": 2015
         },
         {
          "Counts": 632,
          "Gender": "F",
          "Name": "Elisa",
          "Year": 2016
         },
         {
          "Counts": 616,
          "Gender": "F",
          "Name": "Elisa",
          "Year": 2017
         },
         {
          "Counts": 689,
          "Gender": "F",
          "Name": "Elisa",
          "Year": 2018
         },
         {
          "Counts": 710,
          "Gender": "F",
          "Name": "Elisa",
          "Year": 2019
         },
         {
          "Counts": 12251,
          "Gender": "F",
          "Name": "Victoria",
          "Year": 1995
         },
         {
          "Counts": 11861,
          "Gender": "F",
          "Name": "Victoria",
          "Year": 1996
         },
         {
          "Counts": 11791,
          "Gender": "F",
          "Name": "Victoria",
          "Year": 1997
         },
         {
          "Counts": 12147,
          "Gender": "F",
          "Name": "Victoria",
          "Year": 1998
         },
         {
          "Counts": 11872,
          "Gender": "F",
          "Name": "Victoria",
          "Year": 1999
         },
         {
          "Counts": 10926,
          "Gender": "F",
          "Name": "Victoria",
          "Year": 2000
         },
         {
          "Counts": 10179,
          "Gender": "F",
          "Name": "Victoria",
          "Year": 2001
         },
         {
          "Counts": 9784,
          "Gender": "F",
          "Name": "Victoria",
          "Year": 2002
         },
         {
          "Counts": 9244,
          "Gender": "F",
          "Name": "Victoria",
          "Year": 2003
         },
         {
          "Counts": 8277,
          "Gender": "F",
          "Name": "Victoria",
          "Year": 2004
         },
         {
          "Counts": 7958,
          "Gender": "F",
          "Name": "Victoria",
          "Year": 2005
         },
         {
          "Counts": 7650,
          "Gender": "F",
          "Name": "Victoria",
          "Year": 2006
         },
         {
          "Counts": 7432,
          "Gender": "F",
          "Name": "Victoria",
          "Year": 2007
         },
         {
          "Counts": 7122,
          "Gender": "F",
          "Name": "Victoria",
          "Year": 2008
         },
         {
          "Counts": 6364,
          "Gender": "F",
          "Name": "Victoria",
          "Year": 2009
         },
         {
          "Counts": 6229,
          "Gender": "F",
          "Name": "Victoria",
          "Year": 2010
         },
         {
          "Counts": 6890,
          "Gender": "F",
          "Name": "Victoria",
          "Year": 2011
         },
         {
          "Counts": 6864,
          "Gender": "F",
          "Name": "Victoria",
          "Year": 2012
         },
         {
          "Counts": 7208,
          "Gender": "F",
          "Name": "Victoria",
          "Year": 2013
         },
         {
          "Counts": 7998,
          "Gender": "F",
          "Name": "Victoria",
          "Year": 2014
         },
         {
          "Counts": 7617,
          "Gender": "F",
          "Name": "Victoria",
          "Year": 2015
         },
         {
          "Counts": 7314,
          "Gender": "F",
          "Name": "Victoria",
          "Year": 2016
         },
         {
          "Counts": 7297,
          "Gender": "F",
          "Name": "Victoria",
          "Year": 2017
         },
         {
          "Counts": 7111,
          "Gender": "F",
          "Name": "Victoria",
          "Year": 2018
         },
         {
          "Counts": 6344,
          "Gender": "F",
          "Name": "Victoria",
          "Year": 2019
         },
         {
          "Counts": 1401,
          "Gender": "F",
          "Name": "Gina",
          "Year": 1995
         },
         {
          "Counts": 1190,
          "Gender": "F",
          "Name": "Gina",
          "Year": 1996
         },
         {
          "Counts": 1150,
          "Gender": "F",
          "Name": "Gina",
          "Year": 1997
         },
         {
          "Counts": 1016,
          "Gender": "F",
          "Name": "Gina",
          "Year": 1998
         },
         {
          "Counts": 1001,
          "Gender": "F",
          "Name": "Gina",
          "Year": 1999
         },
         {
          "Counts": 855,
          "Gender": "F",
          "Name": "Gina",
          "Year": 2000
         },
         {
          "Counts": 748,
          "Gender": "F",
          "Name": "Gina",
          "Year": 2001
         },
         {
          "Counts": 701,
          "Gender": "F",
          "Name": "Gina",
          "Year": 2002
         },
         {
          "Counts": 641,
          "Gender": "F",
          "Name": "Gina",
          "Year": 2003
         },
         {
          "Counts": 492,
          "Gender": "F",
          "Name": "Gina",
          "Year": 2004
         },
         {
          "Counts": 476,
          "Gender": "F",
          "Name": "Gina",
          "Year": 2005
         },
         {
          "Counts": 403,
          "Gender": "F",
          "Name": "Gina",
          "Year": 2006
         },
         {
          "Counts": 354,
          "Gender": "F",
          "Name": "Gina",
          "Year": 2007
         },
         {
          "Counts": 326,
          "Gender": "F",
          "Name": "Gina",
          "Year": 2008
         },
         {
          "Counts": 260,
          "Gender": "F",
          "Name": "Gina",
          "Year": 2009
         },
         {
          "Counts": 207,
          "Gender": "F",
          "Name": "Gina",
          "Year": 2010
         },
         {
          "Counts": 163,
          "Gender": "F",
          "Name": "Gina",
          "Year": 2011
         },
         {
          "Counts": 172,
          "Gender": "F",
          "Name": "Gina",
          "Year": 2012
         },
         {
          "Counts": 141,
          "Gender": "F",
          "Name": "Gina",
          "Year": 2013
         },
         {
          "Counts": 154,
          "Gender": "F",
          "Name": "Gina",
          "Year": 2014
         },
         {
          "Counts": 103,
          "Gender": "F",
          "Name": "Gina",
          "Year": 2015
         },
         {
          "Counts": 114,
          "Gender": "F",
          "Name": "Gina",
          "Year": 2016
         },
         {
          "Counts": 125,
          "Gender": "F",
          "Name": "Gina",
          "Year": 2017
         },
         {
          "Counts": 112,
          "Gender": "F",
          "Name": "Gina",
          "Year": 2018
         },
         {
          "Counts": 118,
          "Gender": "F",
          "Name": "Gina",
          "Year": 2019
         },
         {
          "Counts": 420,
          "Gender": "F",
          "Name": "Aisha",
          "Year": 1995
         },
         {
          "Counts": 413,
          "Gender": "F",
          "Name": "Aisha",
          "Year": 1996
         },
         {
          "Counts": 353,
          "Gender": "F",
          "Name": "Aisha",
          "Year": 1997
         },
         {
          "Counts": 398,
          "Gender": "F",
          "Name": "Aisha",
          "Year": 1998
         },
         {
          "Counts": 325,
          "Gender": "F",
          "Name": "Aisha",
          "Year": 1999
         },
         {
          "Counts": 341,
          "Gender": "F",
          "Name": "Aisha",
          "Year": 2000
         },
         {
          "Counts": 369,
          "Gender": "F",
          "Name": "Aisha",
          "Year": 2001
         },
         {
          "Counts": 406,
          "Gender": "F",
          "Name": "Aisha",
          "Year": 2002
         },
         {
          "Counts": 424,
          "Gender": "F",
          "Name": "Aisha",
          "Year": 2003
         },
         {
          "Counts": 415,
          "Gender": "F",
          "Name": "Aisha",
          "Year": 2004
         },
         {
          "Counts": 371,
          "Gender": "F",
          "Name": "Aisha",
          "Year": 2005
         },
         {
          "Counts": 413,
          "Gender": "F",
          "Name": "Aisha",
          "Year": 2006
         },
         {
          "Counts": 418,
          "Gender": "F",
          "Name": "Aisha",
          "Year": 2007
         },
         {
          "Counts": 384,
          "Gender": "F",
          "Name": "Aisha",
          "Year": 2008
         },
         {
          "Counts": 385,
          "Gender": "F",
          "Name": "Aisha",
          "Year": 2009
         },
         {
          "Counts": 417,
          "Gender": "F",
          "Name": "Aisha",
          "Year": 2010
         },
         {
          "Counts": 447,
          "Gender": "F",
          "Name": "Aisha",
          "Year": 2011
         },
         {
          "Counts": 503,
          "Gender": "F",
          "Name": "Aisha",
          "Year": 2012
         },
         {
          "Counts": 507,
          "Gender": "F",
          "Name": "Aisha",
          "Year": 2013
         },
         {
          "Counts": 544,
          "Gender": "F",
          "Name": "Aisha",
          "Year": 2014
         },
         {
          "Counts": 649,
          "Gender": "F",
          "Name": "Aisha",
          "Year": 2015
         },
         {
          "Counts": 618,
          "Gender": "F",
          "Name": "Aisha",
          "Year": 2016
         },
         {
          "Counts": 561,
          "Gender": "F",
          "Name": "Aisha",
          "Year": 2017
         },
         {
          "Counts": 598,
          "Gender": "F",
          "Name": "Aisha",
          "Year": 2018
         },
         {
          "Counts": 574,
          "Gender": "F",
          "Name": "Aisha",
          "Year": 2019
         },
         {
          "Counts": 13,
          "Gender": "F",
          "Name": "Carlina",
          "Year": 1995
         },
         {
          "Counts": 16,
          "Gender": "F",
          "Name": "Carlina",
          "Year": 1996
         },
         {
          "Counts": 27,
          "Gender": "F",
          "Name": "Carlina",
          "Year": 1997
         },
         {
          "Counts": 19,
          "Gender": "F",
          "Name": "Carlina",
          "Year": 1998
         },
         {
          "Counts": 19,
          "Gender": "F",
          "Name": "Carlina",
          "Year": 1999
         },
         {
          "Counts": 20,
          "Gender": "F",
          "Name": "Carlina",
          "Year": 2000
         },
         {
          "Counts": 17,
          "Gender": "F",
          "Name": "Carlina",
          "Year": 2001
         },
         {
          "Counts": 27,
          "Gender": "F",
          "Name": "Carlina",
          "Year": 2002
         },
         {
          "Counts": 22,
          "Gender": "F",
          "Name": "Carlina",
          "Year": 2003
         },
         {
          "Counts": 29,
          "Gender": "F",
          "Name": "Carlina",
          "Year": 2004
         },
         {
          "Counts": 21,
          "Gender": "F",
          "Name": "Carlina",
          "Year": 2005
         },
         {
          "Counts": 31,
          "Gender": "F",
          "Name": "Carlina",
          "Year": 2006
         },
         {
          "Counts": 28,
          "Gender": "F",
          "Name": "Carlina",
          "Year": 2007
         },
         {
          "Counts": 27,
          "Gender": "F",
          "Name": "Carlina",
          "Year": 2008
         },
         {
          "Counts": 26,
          "Gender": "F",
          "Name": "Carlina",
          "Year": 2009
         },
         {
          "Counts": 12,
          "Gender": "F",
          "Name": "Carlina",
          "Year": 2010
         },
         {
          "Counts": 13,
          "Gender": "F",
          "Name": "Carlina",
          "Year": 2011
         },
         {
          "Counts": 31,
          "Gender": "F",
          "Name": "Carlina",
          "Year": 2012
         },
         {
          "Counts": 25,
          "Gender": "F",
          "Name": "Carlina",
          "Year": 2013
         },
         {
          "Counts": 16,
          "Gender": "F",
          "Name": "Carlina",
          "Year": 2014
         },
         {
          "Counts": 16,
          "Gender": "F",
          "Name": "Carlina",
          "Year": 2015
         },
         {
          "Counts": 19,
          "Gender": "F",
          "Name": "Carlina",
          "Year": 2016
         },
         {
          "Counts": 11,
          "Gender": "F",
          "Name": "Carlina",
          "Year": 2017
         },
         {
          "Counts": 12,
          "Gender": "F",
          "Name": "Carlina",
          "Year": 2018
         },
         {
          "Counts": 12,
          "Gender": "F",
          "Name": "Carlina",
          "Year": 2019
         }
        ]
       },
       "encoding": {
        "color": {
         "field": "Name",
         "type": "nominal"
        },
        "tooltip": [
         {
          "field": "Name",
          "type": "nominal"
         },
         {
          "field": "Year",
          "type": "quantitative"
         },
         {
          "field": "Counts",
          "type": "quantitative"
         }
        ],
        "x": {
         "field": "Year",
         "type": "ordinal"
        },
        "y": {
         "field": "Counts",
         "scale": {
          "type": "log"
         },
         "type": "quantitative"
        }
       },
       "mark": "line"
      },
      "image/png": "[encoded data removed]",
      "text/plain": [
       "<VegaLite 4 object>\n",
       "\n",
       "If you see this message, it means the renderer has not been properly enabled\n",
       "for the frontend that you are using. For more information, see\n",
       "https://altair-viz.github.io/user_guide/troubleshooting.html\n"
      ]
     },
     "execution_count": 104,
     "metadata": {},
     "output_type": "execute_result"
    }
   ],
   "source": [
    "alt.Chart(df_3[df_3.Gender==\"F\"]).mark_line().encode(\n",
    "    alt.X(\"Year:O\"),\n",
    "    alt.Y(\"Counts\", scale=alt.Scale(type='log')),\n",
    "    alt.Color(\"Name\"),\n",
    "    tooltip = ['Name', 'Year', 'Counts']\n",
    ")"
   ]
  },
  {
   "cell_type": "code",
   "execution_count": null,
   "metadata": {},
   "outputs": [],
   "source": []
  }
 ],
 "metadata": {
  "kernelspec": {
   "display_name": "Python 3",
   "language": "python",
   "name": "python3"
  },
  "language_info": {
   "codemirror_mode": {
    "name": "ipython",
    "version": 3
   },
   "file_extension": ".py",
   "mimetype": "text/x-python",
   "name": "python",
   "nbconvert_exporter": "python",
   "pygments_lexer": "ipython3",
   "version": "3.7.7"
  }
 },
 "nbformat": 4,
 "nbformat_minor": 4
}
